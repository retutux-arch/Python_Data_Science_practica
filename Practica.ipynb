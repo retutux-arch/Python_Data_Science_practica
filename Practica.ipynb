{
  "nbformat": 4,
  "nbformat_minor": 0,
  "metadata": {
    "colab": {
      "provenance": [],
      "authorship_tag": "ABX9TyOxazjWQX30n6OY/QJNsveW",
      "include_colab_link": true
    },
    "kernelspec": {
      "name": "python3",
      "display_name": "Python 3"
    },
    "language_info": {
      "name": "python"
    }
  },
  "cells": [
    {
      "cell_type": "markdown",
      "metadata": {
        "id": "view-in-github",
        "colab_type": "text"
      },
      "source": [
        "<a href=\"https://colab.research.google.com/github/retutux-arch/Python_Data_Science_practica/blob/main/Practica.ipynb\" target=\"_parent\"><img src=\"https://colab.research.google.com/assets/colab-badge.svg\" alt=\"Open In Colab\"/></a>"
      ]
    },
    {
      "cell_type": "markdown",
      "source": [
        "#***Practica***"
      ],
      "metadata": {
        "id": "Mgu_YmdzDt6v"
      }
    },
    {
      "cell_type": "markdown",
      "source": [
        "#**Hora de practicar** : *Commensando con python*"
      ],
      "metadata": {
        "id": "fwvJkOVuCnN2"
      }
    },
    {
      "cell_type": "markdown",
      "source": [
        "1 - Imprime la frase \"Escuela de Datos de Alura\"."
      ],
      "metadata": {
        "id": "rbJXFvTrEF9w"
      }
    },
    {
      "cell_type": "code",
      "execution_count": 1,
      "metadata": {
        "id": "nwW3yOiE5p0f",
        "colab": {
          "base_uri": "https://localhost:8080/"
        },
        "outputId": "eafd9edb-15bc-4546-f1ad-fbe8e044e70f"
      },
      "outputs": [
        {
          "output_type": "stream",
          "name": "stdout",
          "text": [
            "Escuela de datos de Alura\n"
          ]
        }
      ],
      "source": [
        "print('Escuela de datos de Alura')"
      ]
    },
    {
      "cell_type": "markdown",
      "source": [
        "2 - Imprime tu nombre y tu apellido siguiendo la estructura a continuación:"
      ],
      "metadata": {
        "id": "E0MD905WEqNv"
      }
    },
    {
      "cell_type": "code",
      "source": [
        "print('Nombre: Ariel')\n",
        "print('Apellido: Lobos')"
      ],
      "metadata": {
        "colab": {
          "base_uri": "https://localhost:8080/"
        },
        "id": "HDdRZcPk-qQT",
        "outputId": "b63f0c55-8a9f-4e4f-e6f3-9e5327c3298a"
      },
      "execution_count": 2,
      "outputs": [
        {
          "output_type": "stream",
          "name": "stdout",
          "text": [
            "Nombre: Ariel\n",
            "Apellido: Lobos\n"
          ]
        }
      ]
    },
    {
      "cell_type": "markdown",
      "source": [
        "3 - Imprime tu primer nombre letra por letra. Por ejemplo, si mi nombre es Álvaro, la salida sería:"
      ],
      "metadata": {
        "id": "z1ouVrb2EIct"
      }
    },
    {
      "cell_type": "code",
      "source": [
        "print('A')\n",
        "print('R')\n",
        "print('I')\n",
        "print('E')\n",
        "print('L')\n"
      ],
      "metadata": {
        "colab": {
          "base_uri": "https://localhost:8080/"
        },
        "id": "YUwHDwLF_P4B",
        "outputId": "cabf6fe0-ba41-41e8-f031-3cb324c4c130"
      },
      "execution_count": 3,
      "outputs": [
        {
          "output_type": "stream",
          "name": "stdout",
          "text": [
            "A\n",
            "R\n",
            "I\n",
            "E\n",
            "L\n"
          ]
        }
      ]
    },
    {
      "cell_type": "markdown",
      "source": [
        "4 - Imprime tu fecha de nacimiento en formato día mes año. Recuerda que los valores de día y año no deben estar entre comillas. Suponiendo una fecha de cumpleaños el 28 de febrero de 2003, el formato debe ser como el siguiente:"
      ],
      "metadata": {
        "id": "J-PRV-0FEJYo"
      }
    },
    {
      "cell_type": "code",
      "source": [
        "print(23, 'Septiembre', 1989)"
      ],
      "metadata": {
        "id": "4SPLo3_0_mw6",
        "colab": {
          "base_uri": "https://localhost:8080/"
        },
        "outputId": "4bca5b54-a0bd-4450-fde1-fb651e58f1c4"
      },
      "execution_count": 4,
      "outputs": [
        {
          "output_type": "stream",
          "name": "stdout",
          "text": [
            "23 Septiembre 1989\n"
          ]
        }
      ]
    },
    {
      "cell_type": "markdown",
      "source": [
        "5 - Imprime, en una sola instrucción print, el año actual en el que estás realizando este curso. El valor del año debe ser un dato numérico, y la salida de print debe ser la siguiente:"
      ],
      "metadata": {
        "id": "o2EiQx_jEJ6u"
      }
    },
    {
      "cell_type": "code",
      "source": [
        "print('Año actual:', 2025)"
      ],
      "metadata": {
        "colab": {
          "base_uri": "https://localhost:8080/"
        },
        "id": "oaKn5EnlCpzD",
        "outputId": "d2dcf0d7-f90f-467e-a25d-fd795c772d56"
      },
      "execution_count": 5,
      "outputs": [
        {
          "output_type": "stream",
          "name": "stdout",
          "text": [
            "Año actual: 2025\n"
          ]
        }
      ]
    },
    {
      "cell_type": "markdown",
      "source": [
        "##**Hora de practicar**: *Manipulando datos con Python*"
      ],
      "metadata": {
        "id": "Eo-NG6afDWiP"
      }
    },
    {
      "cell_type": "markdown",
      "source": [
        "###Recopilación y muestra de datos"
      ],
      "metadata": {
        "id": "UaGPp3q9FRfJ"
      }
    },
    {
      "cell_type": "markdown",
      "metadata": {
        "id": "996feba2"
      },
      "source": [
        "1 - Crea un programa que solicite al usuario que escriba su nombre y luego imprima \"Hola, [nombre].\""
      ]
    },
    {
      "cell_type": "code",
      "source": [
        "nombre = input('Nombre: ')\n",
        "print('Hola',nombre)"
      ],
      "metadata": {
        "colab": {
          "base_uri": "https://localhost:8080/",
          "height": 304
        },
        "id": "H3tozu1dJUBo",
        "outputId": "11078c24-39a6-4943-a52c-b7193d329975"
      },
      "execution_count": 6,
      "outputs": [
        {
          "output_type": "error",
          "ename": "KeyboardInterrupt",
          "evalue": "Interrupted by user",
          "traceback": [
            "\u001b[0;31m---------------------------------------------------------------------------\u001b[0m",
            "\u001b[0;31mKeyboardInterrupt\u001b[0m                         Traceback (most recent call last)",
            "\u001b[0;32m/tmp/ipython-input-3238614939.py\u001b[0m in \u001b[0;36m<cell line: 0>\u001b[0;34m()\u001b[0m\n\u001b[0;32m----> 1\u001b[0;31m \u001b[0mnombre\u001b[0m \u001b[0;34m=\u001b[0m \u001b[0minput\u001b[0m\u001b[0;34m(\u001b[0m\u001b[0;34m'Nombre: '\u001b[0m\u001b[0;34m)\u001b[0m\u001b[0;34m\u001b[0m\u001b[0;34m\u001b[0m\u001b[0m\n\u001b[0m\u001b[1;32m      2\u001b[0m \u001b[0mprint\u001b[0m\u001b[0;34m(\u001b[0m\u001b[0;34m'Hola'\u001b[0m\u001b[0;34m,\u001b[0m\u001b[0mnombre\u001b[0m\u001b[0;34m)\u001b[0m\u001b[0;34m\u001b[0m\u001b[0;34m\u001b[0m\u001b[0m\n",
            "\u001b[0;32m/usr/local/lib/python3.12/dist-packages/ipykernel/kernelbase.py\u001b[0m in \u001b[0;36mraw_input\u001b[0;34m(self, prompt)\u001b[0m\n\u001b[1;32m   1175\u001b[0m                 \u001b[0;34m\"raw_input was called, but this frontend does not support input requests.\"\u001b[0m\u001b[0;34m\u001b[0m\u001b[0;34m\u001b[0m\u001b[0m\n\u001b[1;32m   1176\u001b[0m             )\n\u001b[0;32m-> 1177\u001b[0;31m         return self._input_request(\n\u001b[0m\u001b[1;32m   1178\u001b[0m             \u001b[0mstr\u001b[0m\u001b[0;34m(\u001b[0m\u001b[0mprompt\u001b[0m\u001b[0;34m)\u001b[0m\u001b[0;34m,\u001b[0m\u001b[0;34m\u001b[0m\u001b[0;34m\u001b[0m\u001b[0m\n\u001b[1;32m   1179\u001b[0m             \u001b[0mself\u001b[0m\u001b[0;34m.\u001b[0m\u001b[0m_parent_ident\u001b[0m\u001b[0;34m[\u001b[0m\u001b[0;34m\"shell\"\u001b[0m\u001b[0;34m]\u001b[0m\u001b[0;34m,\u001b[0m\u001b[0;34m\u001b[0m\u001b[0;34m\u001b[0m\u001b[0m\n",
            "\u001b[0;32m/usr/local/lib/python3.12/dist-packages/ipykernel/kernelbase.py\u001b[0m in \u001b[0;36m_input_request\u001b[0;34m(self, prompt, ident, parent, password)\u001b[0m\n\u001b[1;32m   1217\u001b[0m             \u001b[0;32mexcept\u001b[0m \u001b[0mKeyboardInterrupt\u001b[0m\u001b[0;34m:\u001b[0m\u001b[0;34m\u001b[0m\u001b[0;34m\u001b[0m\u001b[0m\n\u001b[1;32m   1218\u001b[0m                 \u001b[0;31m# re-raise KeyboardInterrupt, to truncate traceback\u001b[0m\u001b[0;34m\u001b[0m\u001b[0;34m\u001b[0m\u001b[0m\n\u001b[0;32m-> 1219\u001b[0;31m                 \u001b[0;32mraise\u001b[0m \u001b[0mKeyboardInterrupt\u001b[0m\u001b[0;34m(\u001b[0m\u001b[0;34m\"Interrupted by user\"\u001b[0m\u001b[0;34m)\u001b[0m \u001b[0;32mfrom\u001b[0m \u001b[0;32mNone\u001b[0m\u001b[0;34m\u001b[0m\u001b[0;34m\u001b[0m\u001b[0m\n\u001b[0m\u001b[1;32m   1220\u001b[0m             \u001b[0;32mexcept\u001b[0m \u001b[0mException\u001b[0m\u001b[0;34m:\u001b[0m\u001b[0;34m\u001b[0m\u001b[0;34m\u001b[0m\u001b[0m\n\u001b[1;32m   1221\u001b[0m                 \u001b[0mself\u001b[0m\u001b[0;34m.\u001b[0m\u001b[0mlog\u001b[0m\u001b[0;34m.\u001b[0m\u001b[0mwarning\u001b[0m\u001b[0;34m(\u001b[0m\u001b[0;34m\"Invalid Message:\"\u001b[0m\u001b[0;34m,\u001b[0m \u001b[0mexc_info\u001b[0m\u001b[0;34m=\u001b[0m\u001b[0;32mTrue\u001b[0m\u001b[0;34m)\u001b[0m\u001b[0;34m\u001b[0m\u001b[0;34m\u001b[0m\u001b[0m\n",
            "\u001b[0;31mKeyboardInterrupt\u001b[0m: Interrupted by user"
          ]
        }
      ]
    },
    {
      "cell_type": "markdown",
      "metadata": {
        "id": "2ffdb9cc"
      },
      "source": [
        "2 - Crea un programa que solicite al usuario que escriba su nombre y edad, y luego imprima \"Hola, [nombre], tienes [edad] años.\""
      ]
    },
    {
      "cell_type": "code",
      "source": [
        "nombre = input('Nombre: ')\n",
        "edad = input('Edad: ')\n",
        "print(f'Hola {nombre}, tu edad es {edad} años.')"
      ],
      "metadata": {
        "id": "WUkx6CVgLT4R"
      },
      "execution_count": null,
      "outputs": []
    },
    {
      "cell_type": "markdown",
      "metadata": {
        "id": "f6caf4de"
      },
      "source": [
        "3 - Crea un programa que solicite al usuario que escriba su nombre, edad y altura en metros, y luego imprima \"Hola, [nombre], tienes [edad] años y mides [altura] metros.\""
      ]
    },
    {
      "cell_type": "code",
      "source": [
        "nombre = input('Nombre: ')\n",
        "edad = int(input('Edad: '))\n",
        "altura = float(input('Altura: '))\n",
        "print(f'Hola {nombre}, tienes {edad} años y mides {altura:.2f} metros.')"
      ],
      "metadata": {
        "id": "yNaLMoFbPFfy"
      },
      "execution_count": null,
      "outputs": []
    },
    {
      "cell_type": "markdown",
      "metadata": {
        "id": "5974801f"
      },
      "source": [
        "***Calculadora con operadores***"
      ]
    },
    {
      "cell_type": "markdown",
      "metadata": {
        "id": "d126585a"
      },
      "source": [
        "4 - Crea un programa que solicite dos valores numéricos al usuario y luego imprima la suma de ambos valores."
      ]
    },
    {
      "cell_type": "code",
      "metadata": {
        "id": "b2c4fcf0"
      },
      "source": [
        "valor1 = int(input(\"Introduce el primer valor numérico: \"))\n",
        "valor2 = int(input(\"Introduce el segundo valor numérico: \"))\n",
        "suma = valor1 + valor2\n",
        "print(f\"La suma de {valor1} y {valor2} es: {suma}\")"
      ],
      "execution_count": null,
      "outputs": []
    },
    {
      "cell_type": "markdown",
      "metadata": {
        "id": "8f2d4776"
      },
      "source": [
        "5 - Crea un programa que solicite tres valores numéricos al usuario y luego imprima la suma de los tres valores."
      ]
    },
    {
      "cell_type": "code",
      "source": [
        "valor1 = int(input(\"Introduce el primer valor numérico: \"))\n",
        "valor2 = int(input(\"Introduce el segundo valor numérico: \"))\n",
        "valor3 = int(input(\"Introduce el segundo valor numérico: \"))\n",
        "suma = valor1 + valor2 + valor3\n",
        "print(f\"La suma de {valor1} + {valor2} y {valor3} es: {suma}\")"
      ],
      "metadata": {
        "id": "myr9a0-NXJsB"
      },
      "execution_count": null,
      "outputs": []
    },
    {
      "cell_type": "markdown",
      "metadata": {
        "id": "3cec343a"
      },
      "source": [
        "6 - Crea un programa que solicite dos valores numéricos al usuario y luego imprima la resta del primero menos el segundo valor."
      ]
    },
    {
      "cell_type": "code",
      "source": [
        "valor1 = int(input(\"Introduce el primer valor numérico: \"))\n",
        "valor2 = int(input(\"Introduce el segundo valor numérico: \"))\n",
        "resta = valor1 - valor2\n",
        "print(f\"La resta de {valor1} - {valor2} es: {resta}\")"
      ],
      "metadata": {
        "id": "YfBmpsmuYEJZ"
      },
      "execution_count": null,
      "outputs": []
    },
    {
      "cell_type": "markdown",
      "metadata": {
        "id": "37c91ba8"
      },
      "source": [
        "7 - Crea un programa que solicite dos valores numéricos al usuario y luego imprima la multiplicación de los dos valores."
      ]
    },
    {
      "cell_type": "code",
      "source": [
        "valor1 = int(input(\"Introduce el primer valor numérico: \"))\n",
        "valor2 = int(input(\"Introduce el segundo valor numérico: \"))\n",
        "multipliccion = valor1 * valor2\n",
        "print(f\"La multiplicación de {valor1} x {valor2} es: {multipliccion}\")"
      ],
      "metadata": {
        "id": "Ckw4XSxeYTNN"
      },
      "execution_count": null,
      "outputs": []
    },
    {
      "cell_type": "markdown",
      "metadata": {
        "id": "4af9e8e8"
      },
      "source": [
        "8 - Crea un programa que solicite dos valores numéricos, un numerador y un denominador, y realice la división entre los dos valores. Asegúrate de que el valor del denominador no sea igual a 0."
      ]
    },
    {
      "cell_type": "code",
      "source": [
        "valor1 = float(input(\"Introduce el primer valor numérico: \"))\n",
        "valor2 = float(input(\"Introduce el segundo valor numérico: \"))\n",
        "if valor2 == 0:\n",
        "  print('El denominador no puede ser 0')\n",
        "else:\n",
        "  division = valor1 / valor2\n",
        "  print(f\"La división de {valor1} / {valor2} es: {division}\")\n"
      ],
      "metadata": {
        "id": "8iHzEjZrYjVx"
      },
      "execution_count": null,
      "outputs": []
    },
    {
      "cell_type": "markdown",
      "metadata": {
        "id": "cae67fde"
      },
      "source": [
        "9 - Crea un programa que solicite dos valores numéricos, un operador y una potencia, y realice la exponenciación entre estos dos valores."
      ]
    },
    {
      "cell_type": "code",
      "source": [
        "valor1 = int(input(\"Introduce el primer valor numérico: \"))\n",
        "valor2 = int(input(\"Introduce el segundo valor numérico: \"))\n",
        "potencia = valor1 ** valor2\n",
        "print(f\"La potencia de {valor1} ** {valor2} es: {potencia}\")"
      ],
      "metadata": {
        "id": "ZkHfsqB_aMZD"
      },
      "execution_count": null,
      "outputs": []
    },
    {
      "cell_type": "markdown",
      "metadata": {
        "id": "57d48635"
      },
      "source": [
        "10 - Crea un programa que solicite dos valores numéricos, un numerador y un denominador, y realice la división entera entre los dos valores. Asegúrate de que el valor del denominador no sea igual a 0."
      ]
    },
    {
      "cell_type": "code",
      "source": [
        "valor1 = int(input(\"Introduce el primer valor numérico: \"))\n",
        "valor2 = int(input(\"Introduce el segundo valor numérico: \"))\n",
        "if valor2 == 0:\n",
        "  print('El denominador no puede ser 0')\n",
        "else:\n",
        "  division = valor1 // valor2\n",
        "  print(f\"La división entera de {valor1} // {valor2} es: {division}\")"
      ],
      "metadata": {
        "id": "Fs88IzKBbEq9"
      },
      "execution_count": null,
      "outputs": []
    },
    {
      "cell_type": "markdown",
      "metadata": {
        "id": "40ad9bc8"
      },
      "source": [
        "11 - Crea un programa que solicite dos valores numéricos, un numerador y un denominador, y devuelva el resto de la división entre los dos valores. Asegúrate de que el valor del denominador no sea igual a 0."
      ]
    },
    {
      "cell_type": "code",
      "source": [
        "valor1 = int(input(\"Introduce el primer valor numérico: \"))\n",
        "valor2 = int(input(\"Introduce el segundo valor numérico: \"))\n",
        "if valor2 == 0:\n",
        "  print('El denominador no puede ser 0')\n",
        "else:\n",
        "  division = valor1 % valor2\n",
        "  print(f\"El resto de la división de {valor1} % {valor2} es: {division}\")"
      ],
      "metadata": {
        "id": "qwZ-a9PHcet5"
      },
      "execution_count": null,
      "outputs": []
    },
    {
      "cell_type": "markdown",
      "metadata": {
        "id": "dd1273b2"
      },
      "source": [
        "12 - Crea un código que solicite las 3 notas de un estudiante e imprima el promedio de las notas."
      ]
    },
    {
      "cell_type": "code",
      "source": [
        "nota1 = float(input(\"Introduce tu primera calificacion: \"))\n",
        "nota2 = float(input(\"Introduce tu segunda calificacion: \"))\n",
        "nota3 = float(input(\"Introduce tu tercera calificacion: \"))\n",
        "promedio = (nota1 + nota2 + nota3) / 3\n",
        "print(f\"El promedio de las notas es: {promedio}\")"
      ],
      "metadata": {
        "id": "jcFKeXDOcygS"
      },
      "execution_count": null,
      "outputs": []
    },
    {
      "cell_type": "markdown",
      "metadata": {
        "id": "b1f1f124"
      },
      "source": [
        "13 - Crea un código que calcule e imprima el promedio ponderado de los números 5, 12, 20 y 15 con pesos respectivamente iguales a 1, 2, 3 y 4."
      ]
    },
    {
      "cell_type": "code",
      "source": [
        "promedio_ponderado = (5*1 + 12*2 + 20*3 + 15*4) / (1+2+3+4)\n",
        "print(f'El promedio ponderado es: {promedio_ponderado}')\n",
        "\n"
      ],
      "metadata": {
        "id": "c1wgbtkveB15"
      },
      "execution_count": null,
      "outputs": []
    },
    {
      "cell_type": "markdown",
      "metadata": {
        "id": "a445ba0e"
      },
      "source": [
        "***Editando textos***"
      ]
    },
    {
      "cell_type": "markdown",
      "metadata": {
        "id": "1c49f836"
      },
      "source": [
        "14 - Crea una variable llamada \"frase\" y asígnale una cadena de texto de tu elección. Luego, imprime la frase en pantalla."
      ]
    },
    {
      "cell_type": "code",
      "source": [
        "frase = 'Hola, soy Ariel Lobos'\n",
        "print(frase)\n"
      ],
      "metadata": {
        "id": "K9O739kKfpPO"
      },
      "execution_count": null,
      "outputs": []
    },
    {
      "cell_type": "markdown",
      "metadata": {
        "id": "43cdf426"
      },
      "source": [
        "15 - Crea un código que solicite una frase y luego imprima la frase en pantalla."
      ]
    },
    {
      "cell_type": "code",
      "source": [
        "frase = input('Introduce una frase: ')\n",
        "print(frase)"
      ],
      "metadata": {
        "id": "RS7eUrdZfxSV"
      },
      "execution_count": null,
      "outputs": []
    },
    {
      "cell_type": "markdown",
      "metadata": {
        "id": "2523f5d8"
      },
      "source": [
        "16 - Crea un código que solicite una frase al usuario y luego imprima la misma frase ingresada pero en mayúsculas."
      ]
    },
    {
      "cell_type": "code",
      "source": [
        "frase = input('Introduce una frase: ')\n",
        "print(frase.upper())"
      ],
      "metadata": {
        "id": "9oVHkaGTgQT8"
      },
      "execution_count": null,
      "outputs": []
    },
    {
      "cell_type": "markdown",
      "metadata": {
        "id": "1b3f0cac"
      },
      "source": [
        "17 - Crea un código que solicite una frase al usuario y luego imprima la misma frase ingresada pero en minúsculas."
      ]
    },
    {
      "cell_type": "code",
      "source": [
        "frase = input('Introduce una frase: ')\n",
        "print(frase.lower())"
      ],
      "metadata": {
        "id": "Jcq8yAMggc81"
      },
      "execution_count": null,
      "outputs": []
    },
    {
      "cell_type": "markdown",
      "metadata": {
        "id": "e5de0d8a"
      },
      "source": [
        "18 - Crea una variable llamada \"frase\" y asígnale una cadena de texto de tu elección. Luego, imprime la frase sin espacios en blanco al principio y al final."
      ]
    },
    {
      "cell_type": "code",
      "source": [
        "frase = '    hola    '\n",
        "print(Frase.strip())"
      ],
      "metadata": {
        "id": "JDUT9L26glc1"
      },
      "execution_count": null,
      "outputs": []
    },
    {
      "cell_type": "markdown",
      "metadata": {
        "id": "4b47c0c4"
      },
      "source": [
        "19 - Crea un código que solicite una frase al usuario y luego imprima la misma frase sin espacios en blanco al principio y al final."
      ]
    },
    {
      "cell_type": "code",
      "source": [
        "frase = input('Introduce una frase: ')\n",
        "print(frase.strip())"
      ],
      "metadata": {
        "id": "ARoT2xxRg_KV"
      },
      "execution_count": null,
      "outputs": []
    },
    {
      "cell_type": "markdown",
      "metadata": {
        "id": "aa1478e2"
      },
      "source": [
        "20 - Crea un código que solicite una frase al usuario y luego imprima la misma frase sin espacios en blanco al principio y al final, además de convertirla a minúsculas."
      ]
    },
    {
      "cell_type": "code",
      "source": [
        "frase = input('Introduce una frase: ')\n",
        "print(frase.strip().lower())"
      ],
      "metadata": {
        "id": "NRsdV8upiCnQ"
      },
      "execution_count": null,
      "outputs": []
    },
    {
      "cell_type": "markdown",
      "metadata": {
        "id": "dc15a9ef"
      },
      "source": [
        "21 - Crea un código que solicite una frase al usuario y luego imprima la misma frase con todas las vocales \"e\" reemplazadas por la letra \"f\"."
      ]
    },
    {
      "cell_type": "code",
      "source": [
        "frase = input('Introduce una frase: ')\n",
        "print(frase.replace('e','f'))"
      ],
      "metadata": {
        "id": "ci1NlSHZihJM"
      },
      "execution_count": null,
      "outputs": []
    },
    {
      "cell_type": "markdown",
      "metadata": {
        "id": "359ad768"
      },
      "source": [
        "22 - Crea un código que solicite una frase al usuario y luego imprima la misma frase con todas las vocales \"a\" reemplazadas por el carácter \"@\"."
      ]
    },
    {
      "cell_type": "code",
      "source": [
        "frase = input('Introduce una frase: ')\n",
        "print(frase.replace('a','@'))"
      ],
      "metadata": {
        "id": "Sg6Evkb5i_iD"
      },
      "execution_count": null,
      "outputs": []
    },
    {
      "cell_type": "markdown",
      "metadata": {
        "id": "563273a8"
      },
      "source": [
        "23 - Crea un código que solicite una frase al usuario y luego imprima la misma frase con todas las consonantes \"s\" reemplazadas por el carácter \"$\"."
      ]
    },
    {
      "cell_type": "code",
      "source": [
        "frase = input('Introduce una frase: ')\n",
        "print(frase.replace('s','$'))"
      ],
      "metadata": {
        "id": "kUBnVYAujm36"
      },
      "execution_count": null,
      "outputs": []
    },
    {
      "cell_type": "markdown",
      "source": [
        "##**Es hora de practicar:** *Estructuras condiconales.*"
      ],
      "metadata": {
        "id": "5E6pxyp4DM59"
      }
    },
    {
      "cell_type": "markdown",
      "metadata": {
        "id": "b6d953a8"
      },
      "source": [
        "1 - Escribe un programa que pida a la persona usuaria que proporcione dos números y muestre el número más grande."
      ]
    },
    {
      "cell_type": "code",
      "source": [
        "numero_1 = int(input('Introduce el primer numero: '))\n",
        "numero_2 = int(input('Introduce el segundo numero: '))\n",
        "\n",
        "if numero_1 > numero_2:\n",
        "  print(f'El numero',numero_1,'es mayor')\n",
        "\n",
        "elif numero_1 == numero_2:\n",
        "  print(f'Son iguales')\n",
        "\n",
        "else:\n",
        "  print(f'El numero',numero_2,'es mayor')"
      ],
      "metadata": {
        "id": "o_eQF7rBGfVv"
      },
      "execution_count": null,
      "outputs": []
    },
    {
      "cell_type": "markdown",
      "metadata": {
        "id": "71373eb4"
      },
      "source": [
        "2 - Escribe un programa que solicite el porcentaje de crecimiento de producción de una empresa e informe si hubo un crecimiento (porcentaje positivo) o una disminución (porcentaje negativo)."
      ]
    },
    {
      "cell_type": "code",
      "source": [
        "porcentaje_1 = float(input('Introduce el porcentaje de crecimiento de producción del primer año: '))\n",
        "porcentaje_2 = float(input('Introduce el porcentaje de crecimiento de producción del segundo año: '))\n",
        "\n",
        "if porcentaje_1 < porcentaje_2:\n",
        "  print(f'El porcentaje de crecimiento es positivo')\n",
        "\n",
        "elif porcentaje_1 > porcentaje_2:\n",
        "  print(f'El porcentaje de crecimiento es negativo')\n",
        "\n",
        "else:\n",
        "  print('No hay variación')\n"
      ],
      "metadata": {
        "id": "f0DXdG-FJbgR"
      },
      "execution_count": null,
      "outputs": []
    },
    {
      "cell_type": "markdown",
      "metadata": {
        "id": "e6465a5c"
      },
      "source": [
        "3 - Escribe un programa que determine si una letra proporcionada por la persona usuaria es una vocal o una consonante."
      ]
    },
    {
      "cell_type": "code",
      "source": [
        "vocales = 'a,e,i,o,u'\n",
        "\n",
        "letra_usuario = input('Digite una letra')\n",
        "\n",
        "if letra_usuario in vocales:\n",
        "  print('Tu letra es una vocal')\n",
        "\n",
        "else :\n",
        "  print('Tu letra es una consonante')\n"
      ],
      "metadata": {
        "id": "sbib5YAhQZML"
      },
      "execution_count": null,
      "outputs": []
    },
    {
      "cell_type": "markdown",
      "metadata": {
        "id": "fd9fb40b"
      },
      "source": [
        "4 - Escribe un programa que lea valores promedio de precios de un modelo de automóvil durante 3 años consecutivos y muestre el valor más alto y más bajo entre esos tres años."
      ]
    },
    {
      "cell_type": "code",
      "metadata": {
        "id": "bf461a39"
      },
      "source": [
        "precio1 = float(input('Ingrese el precio del primer año: '))\n",
        "precio2 = float(input('Ingrese el precio del segundo año: '))\n",
        "precio3 = float(input('Ingrese el precio del tercer año: '))\n",
        "\n",
        "precio_mas_alto = precio1\n",
        "if precio2 > precio_mas_alto:\n",
        "  precio_mas_alto = precio2\n",
        "if precio3 > precio_mas_alto:\n",
        "  precio_mas_alto = precio3\n",
        "\n",
        "precio_mas_bajo = precio1\n",
        "if precio2 < precio_mas_bajo:\n",
        "  precio_mas_bajo = precio2\n",
        "if precio3 < precio_mas_bajo:\n",
        "  precio_mas_bajo = precio3\n",
        "\n",
        "print(f'El precio más alto es: {precio_mas_alto:.2f}')\n",
        "print(f'El precio más bajo es: {precio_mas_bajo:.2f}')"
      ],
      "execution_count": null,
      "outputs": []
    },
    {
      "cell_type": "code",
      "metadata": {
        "id": "3a874299"
      },
      "source": [
        "# opcional\n",
        "precio_año1 = float(input('Ingrese el precio promedio del automóvil en el primer año: '))\n",
        "precio_año2 = float(input('Ingrese el precio promedio del automóvil en el segundo año: '))\n",
        "precio_año3 = float(input('Ingrese el precio promedio del automóvil en el tercer año: '))\n",
        "\n",
        "precio_mas_alto = max(precio_año1, precio_año2, precio_año3)\n",
        "precio_mas_bajo = min(precio_año1, precio_año2, precio_año3)\n",
        "\n",
        "print(f'El precio promedio más alto entre los tres años es: {precio_mas_alto:.2f}')\n",
        "print(f'El precio promedio más bajo entre los tres años es: {precio_mas_bajo:.2f}')"
      ],
      "execution_count": null,
      "outputs": []
    },
    {
      "cell_type": "markdown",
      "metadata": {
        "id": "7a2ad515"
      },
      "source": [
        "5 - Escribe un programa que pregunte sobre el precio de tres productos e indique cuál es el producto más barato para comprar."
      ]
    },
    {
      "cell_type": "code",
      "source": [
        "precio_producto1 = float(input\n",
        " ('Ingrese el precio en CLP del primer producto: '))\n",
        "precio_producto2 = float(input\n",
        " ('Ingrese el precio en CLP del segundo producto: '))\n",
        "precio_producto3 = float(input\n",
        " ('Ingrese el precio en CLP del tercer producto: '))\n",
        "\n",
        "precio_mas_bajo = precio_producto1\n",
        "if precio_producto2 < precio_mas_bajo:\n",
        "  precio_mas_bajo = precio_producto2\n",
        "if precio_producto3 < precio_mas_bajo:\n",
        "  precio_mas_bajo = precio_producto3\n",
        "\n",
        "print(f'El precio más bajo es: {precio_mas_bajo:.2f}')"
      ],
      "metadata": {
        "id": "v1R6yCU_f2Fg"
      },
      "execution_count": null,
      "outputs": []
    },
    {
      "cell_type": "markdown",
      "metadata": {
        "id": "9293ebe5"
      },
      "source": [
        "6 - Escribe un programa que lea tres números y los muestre en orden descendente."
      ]
    },
    {
      "cell_type": "code",
      "source": [
        "primer_numero = int(input('Ingrese el primer numero: '))\n",
        "segundo_numero = int(input('Ingrese el segundo numero: '))\n",
        "tercer_numero = int(input('Ingrese el tercer numero: '))\n",
        "\n",
        "if (primer_numero >= segundo_numero) and\\\n",
        " (primer_numero >= tercer_numero):\n",
        "  print(primer_numero)\n",
        "  if segundo_numero >= tercer_numero:\n",
        "    print(segundo_numero)\n",
        "    print(tercer_numero)\n",
        "  else:\n",
        "    print(tercer_numero)\n",
        "    print(segundo_numero)\n",
        "elif (segundo_numero >= primer_numero) \\\n",
        "and (segundo_numero >= tercer_numero):\n",
        "  print(segundo_numero)\n",
        "  if primer_numero >= tercer_numero:\n",
        "    print(primer_numero)\n",
        "    print(tercer_numero)\n",
        "  else:\n",
        "    print(tercer_numero)\n",
        "    print(primer_numero)\n",
        "else:\n",
        "  print(tercer_numero)\n",
        "  if primer_numero >= segundo_numero:\n",
        "    print(primer_numero)\n",
        "    print(segundo_numero)\n",
        "  else:\n",
        "    print(segundo_numero)\n",
        "    print(primer_numero)\n"
      ],
      "metadata": {
        "id": "ZlSXKViwh3qx"
      },
      "execution_count": null,
      "outputs": []
    },
    {
      "cell_type": "markdown",
      "metadata": {
        "id": "74d0e871"
      },
      "source": [
        "7 -Escribe un programa que pregunte en qué turno estudia la persona usuaria (\"mañana\", \"tarde\" o \"noche\") y muestre el mensaje \"¡Buenos Días!\", \"¡Buenas Tardes!\", \"¡Buenas Noches!\" o \"Valor Inválido!\", según el caso."
      ]
    },
    {
      "cell_type": "code",
      "source": [
        "turno = input('En que turno estudias? (mañana, tarde o noche)')\n",
        "\n",
        "if turno == 'mañana':\n",
        "  print('¡Buenos días!')\n",
        "elif turno == 'tarde':\n",
        "  print('¡Buenas tardes!')\n",
        "elif turno == 'noche':\n",
        "  print('¡Buenas noches!')\n",
        "else:\n",
        "  print('Valor inválido')"
      ],
      "metadata": {
        "id": "TtI3vx-CuKkd"
      },
      "execution_count": null,
      "outputs": []
    },
    {
      "cell_type": "markdown",
      "metadata": {
        "id": "2ee6b9f5"
      },
      "source": [
        "8 - Escribe un programa que solicite un número entero a la persona usuaria y determine si es par o impar. Pista: Puedes usar el operador módulo (%)."
      ]
    },
    {
      "cell_type": "code",
      "source": [
        "numero = int(input('Ingrese un numero entero: '))\n",
        "\n",
        "if numero % 2 == 0:\n",
        "  print('El numero es par')\n",
        "else:\n",
        "  print('El numero es impar')"
      ],
      "metadata": {
        "id": "OzhmWRAtutoj"
      },
      "execution_count": null,
      "outputs": []
    },
    {
      "cell_type": "markdown",
      "metadata": {
        "id": "993bcdf7"
      },
      "source": [
        "9 - Escribe un programa que pida un número a la persona usuaria y le informe si es entero o decimal."
      ]
    },
    {
      "cell_type": "code",
      "source": [
        "numero = float(input('Ingrese un numero: '))\n",
        "\n",
        "if numero % 1 == 0:\n",
        "  print('El numero es entero')\n",
        "else:\n",
        "  print('El numero es decimal')"
      ],
      "metadata": {
        "id": "82bsSsdLwoKx"
      },
      "execution_count": null,
      "outputs": []
    },
    {
      "cell_type": "markdown",
      "metadata": {
        "id": "42b6208f"
      },
      "source": [
        "Momento de los proyectos\n",
        "\n",
        "10 - Un programa debe ser escrito para leer dos números y luego preguntar a la persona usuaria qué operación desea realizar. El resultado de la operación debe incluir información sobre el número, si es par o impar, positivo o negativo, e entero o decimal."
      ]
    },
    {
      "cell_type": "code",
      "source": [
        "numero1 = float(input('Digite el primer numero: '))\n",
        "numero2 = float(input('Digite el segundo numero: '))\n",
        "operacion_solicitada = input('Que operacion desea realizar? \\\n",
        "(suma, resta, multiplicacion, division): ')\n",
        "\n",
        "if operacion_solicitada == 'suma':\n",
        "    resultado = numero1 + numero2\n",
        "elif operacion_solicitada == 'resta':\n",
        "    resultado = numero1 - numero2\n",
        "elif operacion_solicitada == 'multiplicacion':\n",
        "    resultado = numero1 * numero2\n",
        "elif operacion_solicitada == 'division':\n",
        "    if numero2 == 0:\n",
        "        print('No se puede dividir por cero.')\n",
        "        resultado = None\n",
        "    else:\n",
        "        resultado = numero1 / numero2\n",
        "else:\n",
        "    print('Operacion invalida')\n",
        "    resultado = None\n",
        "\n",
        "if resultado is not None:\n",
        "    print(f'El resultado de la operacion es: {resultado}')\n",
        "\n",
        "    if resultado % 2 == 0:\n",
        "        print(f'El resultado es par')\n",
        "    else:\n",
        "        print(f'El resultado es impar')\n",
        "\n",
        "    if resultado > 0:\n",
        "        print(f'El resultado es positivo')\n",
        "    elif resultado < 0:\n",
        "        print(f'El resultado es negativo')\n",
        "    else:\n",
        "        print(f'El resultado es cero')\n",
        "\n",
        "    if resultado % 1 == 0:\n",
        "        print(f'El resultado es entero')\n",
        "    else:\n",
        "        print(f'El resultado es decimal')"
      ],
      "metadata": {
        "id": "_0QSWilRejPM"
      },
      "execution_count": null,
      "outputs": []
    },
    {
      "cell_type": "markdown",
      "metadata": {
        "id": "58741800"
      },
      "source": [
        "11 - Escribe un programa que pida a la persona usuaria tres números que representan los lados de un triángulo. El programa debe informar si los valores pueden utilizarse para formar un triángulo y, en caso afirmativo, si es equilátero, isósceles o escaleno. Ten en cuenta algunas sugerencias:\n",
        "\n",
        "*   Tres lados forman un triángulo cuando la suma de cualesquiera dos lados es mayor que el tercero;\n",
        "*   Triángulo Equilátero: tres lados iguales;\n",
        "*   Triángulo Isósceles: dos lados iguales;\n",
        "*   Triángulo Escaleno: tres lados diferentes."
      ]
    },
    {
      "cell_type": "code",
      "source": [
        "lado_a = float(input\n",
        " ('Ingrese la medida del primer lado del triángulo: '))\n",
        "lado_b = float(input\n",
        " ('Ingrese la medida del segundo lado del triángulo: '))\n",
        "lado_c = float(input\n",
        " ('Ingrese la medida del tercer lado del triángulo: '))\n",
        "\n",
        "if ((lado_a + lado_b) > lado_c ) and\\\n",
        "   ((lado_c + lado_a) > lado_b ) and\\\n",
        "   ((lado_b + lado_c) > lado_a ) :\n",
        "  print ('Estos valores forman un triangulo')\n",
        "  if  lado_a == lado_b == lado_c :\n",
        "    print ('El triangulo es Equilátero')\n",
        "  elif (lado_a == lado_b and lado_a != lado_c) or\\\n",
        "      (lado_a == lado_c and lado_b != lado_a) or\\\n",
        "        (lado_b == lado_c and lado_a != lado_b) :\n",
        "      print ('El triangulo es Isósceles')\n",
        "  elif lado_a != lado_b and lado_b != lado_c and lado_a != lado_c :\n",
        "      print ('El triangulo es Escaleno')\n",
        "else : print('Estos valores no forman un triangulo')\n"
      ],
      "metadata": {
        "id": "iV3PagzZxdfn"
      },
      "execution_count": null,
      "outputs": []
    },
    {
      "cell_type": "markdown",
      "metadata": {
        "id": "6c588d52"
      },
      "source": [
        "12 - Un establecimiento está vendiendo combustibles con descuentos variables. Para el etanol, si la cantidad comprada es de hasta 15 litros, el descuento será del 2% por litro. En caso contrario, será del 4% por litro. Para el diésel, si la cantidad comprada es de hasta 15 litros, el descuento será del 3% por litro. En caso contrario, será del 5% por litro. El precio por litro de diésel es de  2,00 y el precio por litro de etanol es de 1,70. Escribe un programa que lea la cantidad de litros vendidos y el tipo de combustible (E para etanol y D para diésel) y calcule el valor a pagar por el cliente. Ten en cuenta algunas sugerencias:\n",
        "\n",
        "*   El valor del descuento será el producto del precio por litro, la cantidad de litros y el valor del descuento.\n",
        "*   El valor a pagar por un cliente será el resultado de la multiplicación del precio por litro por la cantidad de litros menos el valor del descuento resultante del cálculo."
      ]
    },
    {
      "cell_type": "code",
      "source": [
        "litros_vendidos = float(input\n",
        " ('Ingrese los litros de Etanol vendidos: '))\n",
        "tipo_combustible = (\n",
        "    input\n",
        " ('Ingrese tipo de combustible (E): Para Etanol, (D): Para Diesel ')\n",
        " ).upper(\n",
        "\n",
        " )\n",
        "\n",
        "valor_etanol_litro = 1.70\n",
        "valor_diesel_litro = 2.00\n",
        "\n",
        "\n",
        "\n",
        "if  litros_vendidos <= 15.00 and tipo_combustible == 'E':\n",
        "  print(\"\\n=============================\")\n",
        "  print(\"  Cálculo de Etanol (E)\")\n",
        "  print(\"=============================\")\n",
        "  tasa_pago_etanol = 1.00 - 0.02\n",
        "  descuento_etanol = 2\n",
        "  valor_final_etanol = (\n",
        "       valor_etanol_litro * litros_vendidos * tasa_pago_etanol\n",
        "   )\n",
        "  print(f'El el descuento es del {descuento_etanol}%, ' +\n",
        "   f'valor total a pagar por litro Etanol: ${valor_final_etanol:.2f}')\n",
        "\n",
        "elif litros_vendidos > 15.00 :\n",
        "   tasa_pago_etanol = 1.00 - 0.04\n",
        "   descuento_etanol = 4\n",
        "   valor_final_etanol = (\n",
        "       valor_etanol_litro * litros_vendidos * tasa_pago_etanol\n",
        "   )\n",
        "   print(f'El el descuento es del {descuento_etanol}%,' +\n",
        "   f'valor total a pagar  por litro Etanol: ${valor_final_etanol:.2f}')\n",
        "\n",
        "\n",
        "\n",
        "if  litros_vendidos <= 15.00 and tipo_combustible == 'D' :\n",
        "  print(\"\\n=============================\")\n",
        "  print(\"  Cálculo de Diésel (D)\")\n",
        "  print(\"=============================\")\n",
        "  tasa_pago_diesel = 1.00 - 0.03\n",
        "  descuento_diesel = 3\n",
        "  valor_final_diesel = (\n",
        "        valor_diesel_litro * litros_vendidos * tasa_pago_diesel\n",
        "  )\n",
        "  print(f'El el descuento es del {descuento_diesel}%,' +\n",
        "  f'valor total a pagar por litro Diésel: ${valor_final_diesel:.2f}')\n",
        "\n",
        "elif litros_vendidos > 15.00 :\n",
        "    tasa_pago_diesel = 1.00 - 0.05\n",
        "    descuento_diesel = 5\n",
        "    valor_final_diesel = (\n",
        "        valor_diesel_litro * litros_vendidos * tasa_pago_diesel\n",
        "    )\n",
        "    print(f'El el descuento es del {descuento_diesel}%,' +\n",
        "    f'valor total a pagar por litro Diésel: ${valor_final_diesel:.2f}')"
      ],
      "metadata": {
        "id": "-8sIKCkqxeEU"
      },
      "execution_count": null,
      "outputs": []
    },
    {
      "cell_type": "code",
      "source": [
        "litros_vendidos = float(input\n",
        "('Ingrese los litros vendidos: '))\n",
        "tipo_combustible = (\n",
        "    input\n",
        "('Ingrese tipo de combustible (E): Para Etanol, (D): Para Diesel ')\n",
        ").upper(\n",
        "\n",
        ")\n",
        "\n",
        "if  tipo_combustible == 'E' :\n",
        "\n",
        "  print(\"\\n=============================\")\n",
        "  print(\"  Cálculo de Etanol (E)\")\n",
        "  print(\"=============================\")\n",
        "  valor_litro = 1.70\n",
        "\n",
        "  if  litros_vendidos <= 15.00 :\n",
        "\n",
        "    tasa_descuento = 0.02\n",
        "    descuento = 2\n",
        "\n",
        "  else :\n",
        "    tasa_descuento = 0.04\n",
        "    descuento = 4\n",
        "\n",
        "\n",
        "\n",
        "\n",
        "elif tipo_combustible == 'D' :\n",
        "\n",
        "  print(\"\\n=============================\")\n",
        "  print(\"  Cálculo de Diésel (D)\")\n",
        "  print(\"=============================\")\n",
        "\n",
        "  valor_litro = 2.00\n",
        "\n",
        "  if litros_vendidos <= 15.00 :\n",
        "\n",
        "      tasa_descuento = 0.03\n",
        "      descuento = 3\n",
        "\n",
        "  else :\n",
        "    tasa_descuento = 0.05\n",
        "    descuento = 5\n",
        "\n",
        "\n",
        "else :\n",
        "    print('Entradas no válidas!')\n",
        "    litros_vendidos = 0\n",
        "    valor_litro = 0.0\n",
        "    tasa_descuento = 0.0\n",
        "    descuento = 0\n",
        "\n",
        "\n",
        "valor_descuento = (\n",
        "        valor_litro * litros_vendidos * tasa_descuento\n",
        "    )\n",
        "valor_total = (\n",
        "    valor_litro * litros_vendidos - valor_descuento\n",
        ")\n",
        "print(f'El el descuento es del {descuento}%,' +\n",
        "f'valor total a pagar por litro: ${valor_total:.2f}')"
      ],
      "metadata": {
        "id": "BghyIgpSjcLe"
      },
      "execution_count": null,
      "outputs": []
    },
    {
      "cell_type": "code",
      "source": [
        "litros_vendidos = float(input('Ingrese los litros vendidos: '))\n",
        "tipo_combustible = (\n",
        "    input('Ingrese tipo de combustible (E): Para Etanol, (D): Para Diesel ')\n",
        ").upper()\n",
        "\n",
        "# 1. INICIALIZACIÓN (Para prevenir NameError en caso de entrada inválida)\n",
        "valor_litro = 0.0\n",
        "tasa_descuento = 0.0\n",
        "descuento = 0\n",
        "\n",
        "if tipo_combustible == 'E':\n",
        "    print(\"\\n=============================\")\n",
        "    print(\"  Cálculo de Etanol (E)\")\n",
        "    print(\"=============================\")\n",
        "    # Asignamos SOLO la variable base. La lógica del descuento viene después.\n",
        "    valor_litro = 1.70\n",
        "\n",
        "elif tipo_combustible == 'D':\n",
        "    print(\"\\n=============================\")\n",
        "    print(\"  Cálculo de Diésel (D)\")\n",
        "    print(\"=============================\")\n",
        "    # Asignamos SOLO la variable base. La lógica del descuento viene después.\n",
        "    valor_litro = 2.00\n",
        "\n",
        "else:\n",
        "    print('Entradas no válidas!')\n",
        "    litros_vendidos = 0\n",
        "    # Las inicializaciones del inicio ya cubren este caso (valor_litro = 0.0, etc.)\n",
        "\n",
        "\n",
        "# --- LÓGICA DE DESCUENTO CENTRALIZADA (DRY) ---\n",
        "# Esta lógica solo se ejecuta si se ha asignado un valor_litro (> 0),\n",
        "# lo que significa que el combustible era válido.\n",
        "if valor_litro > 0:\n",
        "\n",
        "    # 2. ÚNICA CONDICIÓN POR CANTIDAD\n",
        "    # El umbral de descuento por cantidad (15.00) es el mismo para AMBOS.\n",
        "    if litros_vendidos <= 15.00:\n",
        "\n",
        "        # APLICACIÓN DE LA TASA ESPECÍFICA SEGÚN EL COMBUSTIBLE\n",
        "        if tipo_combustible == 'E':\n",
        "            tasa_descuento = 0.02\n",
        "            descuento = 2\n",
        "        else: # Si no es 'E', debe ser 'D' (el único otro caso válido)\n",
        "            tasa_descuento = 0.03\n",
        "            descuento = 3\n",
        "\n",
        "    else: # Esto aplica a litros_vendidos > 15.00\n",
        "\n",
        "        # APLICACIÓN DE LA TASA ESPECÍFICA SEGÚN EL COMBUSTIBLE\n",
        "        if tipo_combustible == 'E':\n",
        "            tasa_descuento = 0.04\n",
        "            descuento = 4\n",
        "        else: # Si no es 'E', debe ser 'D'\n",
        "            tasa_descuento = 0.05\n",
        "            descuento = 5\n",
        "\n",
        "# --- CÁLCULO FINAL (DRY) ---\n",
        "# ... (Tu código de cálculo final aquí, que ya estaba correcto)\n",
        "valor_descuento = (\n",
        "        valor_litro * litros_vendidos * tasa_descuento\n",
        "    )\n",
        "valor_total = (\n",
        "    valor_litro * litros_vendidos - valor_descuento\n",
        ")\n",
        "print(f'El descuento es del {descuento}%,'\n",
        "      f'valor total a pagar por litro: ${valor_total:.2f}')"
      ],
      "metadata": {
        "id": "Wxr-siGKA1s0"
      },
      "execution_count": null,
      "outputs": []
    },
    {
      "cell_type": "markdown",
      "metadata": {
        "id": "dedc395d"
      },
      "source": [
        "13 - En una empresa de venta de bienes raíces, debes crear un código que analice los datos de ventas anuales para ayudar a la dirección en la toma de decisiones. El código debe recopilar los datos de cantidad de ventas durante los años 2022 y 2023 y calcular la variación porcentual. A partir del valor de la variación, se deben proporcionar las siguientes sugerencias:\n",
        "\n",
        "*   Para una variación superior al 20%: bonificación para el equipo de ventas.\n",
        "*   Para una variación entre el 2% y el 20%: pequeña bonificación para el equipo de ventas.\n",
        "*   Para una variación entre el 2% y el -10%: planificación de políticas de incentivo a las ventas.\n",
        "*   Para bonificaciones inferiores al -10%: recorte de gastos."
      ]
    },
    {
      "cell_type": "code",
      "source": [],
      "metadata": {
        "id": "7RoIH2kgxem9"
      },
      "execution_count": null,
      "outputs": []
    }
  ]
}