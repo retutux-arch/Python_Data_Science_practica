{
  "nbformat": 4,
  "nbformat_minor": 0,
  "metadata": {
    "colab": {
      "provenance": [],
      "authorship_tag": "ABX9TyPduLprdQOJo1MhE/AT0ac7",
      "include_colab_link": true
    },
    "kernelspec": {
      "name": "python3",
      "display_name": "Python 3"
    },
    "language_info": {
      "name": "python"
    }
  },
  "cells": [
    {
      "cell_type": "markdown",
      "metadata": {
        "id": "view-in-github",
        "colab_type": "text"
      },
      "source": [
        "<a href=\"https://colab.research.google.com/github/retutux-arch/Python_Data_Science_practica/blob/main/Practica.ipynb\" target=\"_parent\"><img src=\"https://colab.research.google.com/assets/colab-badge.svg\" alt=\"Open In Colab\"/></a>"
      ]
    },
    {
      "cell_type": "markdown",
      "source": [
        "#***Practica***"
      ],
      "metadata": {
        "id": "Mgu_YmdzDt6v"
      }
    },
    {
      "cell_type": "markdown",
      "source": [
        "#**Hora de practicar** : *Commensando con python*"
      ],
      "metadata": {
        "id": "fwvJkOVuCnN2"
      }
    },
    {
      "cell_type": "markdown",
      "source": [
        "1 - Imprime la frase \"Escuela de Datos de Alura\"."
      ],
      "metadata": {
        "id": "rbJXFvTrEF9w"
      }
    },
    {
      "cell_type": "code",
      "execution_count": null,
      "metadata": {
        "id": "nwW3yOiE5p0f",
        "colab": {
          "base_uri": "https://localhost:8080/"
        },
        "outputId": "eafd9edb-15bc-4546-f1ad-fbe8e044e70f"
      },
      "outputs": [
        {
          "output_type": "stream",
          "name": "stdout",
          "text": [
            "Escuela de datos de Alura\n"
          ]
        }
      ],
      "source": [
        "print('Escuela de datos de Alura')"
      ]
    },
    {
      "cell_type": "markdown",
      "source": [
        "2 - Imprime tu nombre y tu apellido siguiendo la estructura a continuación:"
      ],
      "metadata": {
        "id": "E0MD905WEqNv"
      }
    },
    {
      "cell_type": "code",
      "source": [
        "print('Nombre: Ariel')\n",
        "print('Apellido: Lobos')"
      ],
      "metadata": {
        "colab": {
          "base_uri": "https://localhost:8080/"
        },
        "id": "HDdRZcPk-qQT",
        "outputId": "b63f0c55-8a9f-4e4f-e6f3-9e5327c3298a"
      },
      "execution_count": null,
      "outputs": [
        {
          "output_type": "stream",
          "name": "stdout",
          "text": [
            "Nombre: Ariel\n",
            "Apellido: Lobos\n"
          ]
        }
      ]
    },
    {
      "cell_type": "markdown",
      "source": [
        "3 - Imprime tu primer nombre letra por letra. Por ejemplo, si mi nombre es Álvaro, la salida sería:"
      ],
      "metadata": {
        "id": "z1ouVrb2EIct"
      }
    },
    {
      "cell_type": "code",
      "source": [
        "print('A')\n",
        "print('R')\n",
        "print('I')\n",
        "print('E')\n",
        "print('L')\n"
      ],
      "metadata": {
        "colab": {
          "base_uri": "https://localhost:8080/"
        },
        "id": "YUwHDwLF_P4B",
        "outputId": "cabf6fe0-ba41-41e8-f031-3cb324c4c130"
      },
      "execution_count": null,
      "outputs": [
        {
          "output_type": "stream",
          "name": "stdout",
          "text": [
            "A\n",
            "R\n",
            "I\n",
            "E\n",
            "L\n"
          ]
        }
      ]
    },
    {
      "cell_type": "markdown",
      "source": [
        "4 - Imprime tu fecha de nacimiento en formato día mes año. Recuerda que los valores de día y año no deben estar entre comillas. Suponiendo una fecha de cumpleaños el 28 de febrero de 2003, el formato debe ser como el siguiente:"
      ],
      "metadata": {
        "id": "J-PRV-0FEJYo"
      }
    },
    {
      "cell_type": "code",
      "source": [
        "print(23, 'Septiembre', 1989)"
      ],
      "metadata": {
        "id": "4SPLo3_0_mw6",
        "colab": {
          "base_uri": "https://localhost:8080/"
        },
        "outputId": "4bca5b54-a0bd-4450-fde1-fb651e58f1c4"
      },
      "execution_count": null,
      "outputs": [
        {
          "output_type": "stream",
          "name": "stdout",
          "text": [
            "23 Septiembre 1989\n"
          ]
        }
      ]
    },
    {
      "cell_type": "markdown",
      "source": [
        "5 - Imprime, en una sola instrucción print, el año actual en el que estás realizando este curso. El valor del año debe ser un dato numérico, y la salida de print debe ser la siguiente:"
      ],
      "metadata": {
        "id": "o2EiQx_jEJ6u"
      }
    },
    {
      "cell_type": "code",
      "source": [
        "print('Año actual:', 2025)"
      ],
      "metadata": {
        "colab": {
          "base_uri": "https://localhost:8080/"
        },
        "id": "oaKn5EnlCpzD",
        "outputId": "d2dcf0d7-f90f-467e-a25d-fd795c772d56"
      },
      "execution_count": null,
      "outputs": [
        {
          "output_type": "stream",
          "name": "stdout",
          "text": [
            "Año actual: 2025\n"
          ]
        }
      ]
    },
    {
      "cell_type": "markdown",
      "source": [
        "##**Hora de practicar**: *Manipulando datos con Python*"
      ],
      "metadata": {
        "id": "Eo-NG6afDWiP"
      }
    },
    {
      "cell_type": "markdown",
      "source": [
        "###Recopilación y muestra de datos"
      ],
      "metadata": {
        "id": "UaGPp3q9FRfJ"
      }
    },
    {
      "cell_type": "markdown",
      "metadata": {
        "id": "996feba2"
      },
      "source": [
        "1 - Crea un programa que solicite al usuario que escriba su nombre y luego imprima \"Hola, [nombre].\""
      ]
    },
    {
      "cell_type": "code",
      "source": [
        "nombre = input('Nombre: ')\n",
        "print('Hola',nombre)"
      ],
      "metadata": {
        "colab": {
          "base_uri": "https://localhost:8080/"
        },
        "id": "H3tozu1dJUBo",
        "outputId": "13f53932-405b-44d1-b95c-8441cf1a41dc"
      },
      "execution_count": null,
      "outputs": [
        {
          "output_type": "stream",
          "name": "stdout",
          "text": [
            "Nombre: Ariel\n",
            "Hola Ariel\n"
          ]
        }
      ]
    },
    {
      "cell_type": "markdown",
      "metadata": {
        "id": "2ffdb9cc"
      },
      "source": [
        "2 - Crea un programa que solicite al usuario que escriba su nombre y edad, y luego imprima \"Hola, [nombre], tienes [edad] años.\""
      ]
    },
    {
      "cell_type": "code",
      "source": [
        "nombre = input('Nombre: ')\n",
        "edad = input('Edad: ')\n",
        "print(f'Hola {nombre}, tu edad es {edad} años.')"
      ],
      "metadata": {
        "id": "WUkx6CVgLT4R"
      },
      "execution_count": null,
      "outputs": []
    },
    {
      "cell_type": "markdown",
      "metadata": {
        "id": "f6caf4de"
      },
      "source": [
        "3 - Crea un programa que solicite al usuario que escriba su nombre, edad y altura en metros, y luego imprima \"Hola, [nombre], tienes [edad] años y mides [altura] metros.\""
      ]
    },
    {
      "cell_type": "code",
      "source": [
        "nombre = input('Nombre: ')\n",
        "edad = int(input('Edad: '))\n",
        "altura = float(input('Altura: '))\n",
        "print(f'Hola {nombre}, tienes {edad} años y mides {altura:.2f} metros.')"
      ],
      "metadata": {
        "id": "yNaLMoFbPFfy"
      },
      "execution_count": null,
      "outputs": []
    },
    {
      "cell_type": "markdown",
      "metadata": {
        "id": "5974801f"
      },
      "source": [
        "***Calculadora con operadores***"
      ]
    },
    {
      "cell_type": "markdown",
      "metadata": {
        "id": "d126585a"
      },
      "source": [
        "4 - Crea un programa que solicite dos valores numéricos al usuario y luego imprima la suma de ambos valores."
      ]
    },
    {
      "cell_type": "code",
      "metadata": {
        "id": "b2c4fcf0"
      },
      "source": [
        "valor1 = int(input(\"Introduce el primer valor numérico: \"))\n",
        "valor2 = int(input(\"Introduce el segundo valor numérico: \"))\n",
        "suma = valor1 + valor2\n",
        "print(f\"La suma de {valor1} y {valor2} es: {suma}\")"
      ],
      "execution_count": null,
      "outputs": []
    },
    {
      "cell_type": "markdown",
      "metadata": {
        "id": "8f2d4776"
      },
      "source": [
        "5 - Crea un programa que solicite tres valores numéricos al usuario y luego imprima la suma de los tres valores."
      ]
    },
    {
      "cell_type": "code",
      "source": [
        "valor1 = int(input(\"Introduce el primer valor numérico: \"))\n",
        "valor2 = int(input(\"Introduce el segundo valor numérico: \"))\n",
        "valor3 = int(input(\"Introduce el segundo valor numérico: \"))\n",
        "suma = valor1 + valor2 + valor3\n",
        "print(f\"La suma de {valor1} + {valor2} y {valor3} es: {suma}\")"
      ],
      "metadata": {
        "id": "myr9a0-NXJsB"
      },
      "execution_count": null,
      "outputs": []
    },
    {
      "cell_type": "markdown",
      "metadata": {
        "id": "3cec343a"
      },
      "source": [
        "6 - Crea un programa que solicite dos valores numéricos al usuario y luego imprima la resta del primero menos el segundo valor."
      ]
    },
    {
      "cell_type": "code",
      "source": [
        "valor1 = int(input(\"Introduce el primer valor numérico: \"))\n",
        "valor2 = int(input(\"Introduce el segundo valor numérico: \"))\n",
        "resta = valor1 - valor2\n",
        "print(f\"La resta de {valor1} - {valor2} es: {resta}\")"
      ],
      "metadata": {
        "id": "YfBmpsmuYEJZ"
      },
      "execution_count": null,
      "outputs": []
    },
    {
      "cell_type": "markdown",
      "metadata": {
        "id": "37c91ba8"
      },
      "source": [
        "7 - Crea un programa que solicite dos valores numéricos al usuario y luego imprima la multiplicación de los dos valores."
      ]
    },
    {
      "cell_type": "code",
      "source": [
        "valor1 = int(input(\"Introduce el primer valor numérico: \"))\n",
        "valor2 = int(input(\"Introduce el segundo valor numérico: \"))\n",
        "multipliccion = valor1 * valor2\n",
        "print(f\"La multiplicación de {valor1} x {valor2} es: {multipliccion}\")"
      ],
      "metadata": {
        "id": "Ckw4XSxeYTNN"
      },
      "execution_count": null,
      "outputs": []
    },
    {
      "cell_type": "markdown",
      "metadata": {
        "id": "4af9e8e8"
      },
      "source": [
        "8 - Crea un programa que solicite dos valores numéricos, un numerador y un denominador, y realice la división entre los dos valores. Asegúrate de que el valor del denominador no sea igual a 0."
      ]
    },
    {
      "cell_type": "code",
      "source": [
        "valor1 = float(input(\"Introduce el primer valor numérico: \"))\n",
        "valor2 = float(input(\"Introduce el segundo valor numérico: \"))\n",
        "if valor2 == 0:\n",
        "  print('El denominador no puede ser 0')\n",
        "else:\n",
        "  division = valor1 / valor2\n",
        "  print(f\"La división de {valor1} / {valor2} es: {division}\")\n"
      ],
      "metadata": {
        "id": "8iHzEjZrYjVx"
      },
      "execution_count": null,
      "outputs": []
    },
    {
      "cell_type": "markdown",
      "metadata": {
        "id": "cae67fde"
      },
      "source": [
        "9 - Crea un programa que solicite dos valores numéricos, un operador y una potencia, y realice la exponenciación entre estos dos valores."
      ]
    },
    {
      "cell_type": "code",
      "source": [
        "valor1 = int(input(\"Introduce el primer valor numérico: \"))\n",
        "valor2 = int(input(\"Introduce el segundo valor numérico: \"))\n",
        "potencia = valor1 ** valor2\n",
        "print(f\"La potencia de {valor1} ** {valor2} es: {potencia}\")"
      ],
      "metadata": {
        "id": "ZkHfsqB_aMZD"
      },
      "execution_count": null,
      "outputs": []
    },
    {
      "cell_type": "markdown",
      "metadata": {
        "id": "57d48635"
      },
      "source": [
        "10 - Crea un programa que solicite dos valores numéricos, un numerador y un denominador, y realice la división entera entre los dos valores. Asegúrate de que el valor del denominador no sea igual a 0."
      ]
    },
    {
      "cell_type": "code",
      "source": [
        "valor1 = int(input(\"Introduce el primer valor numérico: \"))\n",
        "valor2 = int(input(\"Introduce el segundo valor numérico: \"))\n",
        "if valor2 == 0:\n",
        "  print('El denominador no puede ser 0')\n",
        "else:\n",
        "  division = valor1 // valor2\n",
        "  print(f\"La división entera de {valor1} // {valor2} es: {division}\")"
      ],
      "metadata": {
        "id": "Fs88IzKBbEq9"
      },
      "execution_count": null,
      "outputs": []
    },
    {
      "cell_type": "markdown",
      "metadata": {
        "id": "40ad9bc8"
      },
      "source": [
        "11 - Crea un programa que solicite dos valores numéricos, un numerador y un denominador, y devuelva el resto de la división entre los dos valores. Asegúrate de que el valor del denominador no sea igual a 0."
      ]
    },
    {
      "cell_type": "code",
      "source": [
        "valor1 = int(input(\"Introduce el primer valor numérico: \"))\n",
        "valor2 = int(input(\"Introduce el segundo valor numérico: \"))\n",
        "if valor2 == 0:\n",
        "  print('El denominador no puede ser 0')\n",
        "else:\n",
        "  division = valor1 % valor2\n",
        "  print(f\"El resto de la división de {valor1} % {valor2} es: {division}\")"
      ],
      "metadata": {
        "id": "qwZ-a9PHcet5"
      },
      "execution_count": null,
      "outputs": []
    },
    {
      "cell_type": "markdown",
      "metadata": {
        "id": "dd1273b2"
      },
      "source": [
        "12 - Crea un código que solicite las 3 notas de un estudiante e imprima el promedio de las notas."
      ]
    },
    {
      "cell_type": "code",
      "source": [
        "nota1 = float(input(\"Introduce tu primera calificacion: \"))\n",
        "nota2 = float(input(\"Introduce tu segunda calificacion: \"))\n",
        "nota3 = float(input(\"Introduce tu tercera calificacion: \"))\n",
        "promedio = (nota1 + nota2 + nota3) / 3\n",
        "print(f\"El promedio de las notas es: {promedio}\")"
      ],
      "metadata": {
        "id": "jcFKeXDOcygS"
      },
      "execution_count": null,
      "outputs": []
    },
    {
      "cell_type": "markdown",
      "metadata": {
        "id": "b1f1f124"
      },
      "source": [
        "13 - Crea un código que calcule e imprima el promedio ponderado de los números 5, 12, 20 y 15 con pesos respectivamente iguales a 1, 2, 3 y 4."
      ]
    },
    {
      "cell_type": "code",
      "source": [
        "promedio_ponderado = (5*1 + 12*2 + 20*3 + 15*4) / (1+2+3+4)\n",
        "print(f'El promedio ponderado es: {promedio_ponderado}')\n",
        "\n"
      ],
      "metadata": {
        "id": "c1wgbtkveB15"
      },
      "execution_count": null,
      "outputs": []
    },
    {
      "cell_type": "markdown",
      "metadata": {
        "id": "a445ba0e"
      },
      "source": [
        "***Editando textos***"
      ]
    },
    {
      "cell_type": "markdown",
      "metadata": {
        "id": "1c49f836"
      },
      "source": [
        "14 - Crea una variable llamada \"frase\" y asígnale una cadena de texto de tu elección. Luego, imprime la frase en pantalla."
      ]
    },
    {
      "cell_type": "code",
      "source": [
        "frase = 'Hola, soy Ariel Lobos'\n",
        "print(frase)\n"
      ],
      "metadata": {
        "id": "K9O739kKfpPO"
      },
      "execution_count": null,
      "outputs": []
    },
    {
      "cell_type": "markdown",
      "metadata": {
        "id": "43cdf426"
      },
      "source": [
        "15 - Crea un código que solicite una frase y luego imprima la frase en pantalla."
      ]
    },
    {
      "cell_type": "code",
      "source": [
        "frase = input('Introduce una frase: ')\n",
        "print(frase)"
      ],
      "metadata": {
        "id": "RS7eUrdZfxSV"
      },
      "execution_count": null,
      "outputs": []
    },
    {
      "cell_type": "markdown",
      "metadata": {
        "id": "2523f5d8"
      },
      "source": [
        "16 - Crea un código que solicite una frase al usuario y luego imprima la misma frase ingresada pero en mayúsculas."
      ]
    },
    {
      "cell_type": "code",
      "source": [
        "frase = input('Introduce una frase: ')\n",
        "print(frase.upper())"
      ],
      "metadata": {
        "id": "9oVHkaGTgQT8"
      },
      "execution_count": null,
      "outputs": []
    },
    {
      "cell_type": "markdown",
      "metadata": {
        "id": "1b3f0cac"
      },
      "source": [
        "17 - Crea un código que solicite una frase al usuario y luego imprima la misma frase ingresada pero en minúsculas."
      ]
    },
    {
      "cell_type": "code",
      "source": [
        "frase = input('Introduce una frase: ')\n",
        "print(frase.lower())"
      ],
      "metadata": {
        "id": "Jcq8yAMggc81"
      },
      "execution_count": null,
      "outputs": []
    },
    {
      "cell_type": "markdown",
      "metadata": {
        "id": "e5de0d8a"
      },
      "source": [
        "18 - Crea una variable llamada \"frase\" y asígnale una cadena de texto de tu elección. Luego, imprime la frase sin espacios en blanco al principio y al final."
      ]
    },
    {
      "cell_type": "code",
      "source": [
        "frase = '    hola    '\n",
        "print(Frase.strip())"
      ],
      "metadata": {
        "id": "JDUT9L26glc1"
      },
      "execution_count": null,
      "outputs": []
    },
    {
      "cell_type": "markdown",
      "metadata": {
        "id": "4b47c0c4"
      },
      "source": [
        "19 - Crea un código que solicite una frase al usuario y luego imprima la misma frase sin espacios en blanco al principio y al final."
      ]
    },
    {
      "cell_type": "code",
      "source": [
        "frase = input('Introduce una frase: ')\n",
        "print(frase.strip())"
      ],
      "metadata": {
        "id": "ARoT2xxRg_KV"
      },
      "execution_count": null,
      "outputs": []
    },
    {
      "cell_type": "markdown",
      "metadata": {
        "id": "aa1478e2"
      },
      "source": [
        "20 - Crea un código que solicite una frase al usuario y luego imprima la misma frase sin espacios en blanco al principio y al final, además de convertirla a minúsculas."
      ]
    },
    {
      "cell_type": "code",
      "source": [
        "frase = input('Introduce una frase: ')\n",
        "print(frase.strip().lower())"
      ],
      "metadata": {
        "id": "NRsdV8upiCnQ"
      },
      "execution_count": null,
      "outputs": []
    },
    {
      "cell_type": "markdown",
      "metadata": {
        "id": "dc15a9ef"
      },
      "source": [
        "21 - Crea un código que solicite una frase al usuario y luego imprima la misma frase con todas las vocales \"e\" reemplazadas por la letra \"f\"."
      ]
    },
    {
      "cell_type": "code",
      "source": [
        "frase = input('Introduce una frase: ')\n",
        "print(frase.replace('e','f'))"
      ],
      "metadata": {
        "id": "ci1NlSHZihJM"
      },
      "execution_count": null,
      "outputs": []
    },
    {
      "cell_type": "markdown",
      "metadata": {
        "id": "359ad768"
      },
      "source": [
        "22 - Crea un código que solicite una frase al usuario y luego imprima la misma frase con todas las vocales \"a\" reemplazadas por el carácter \"@\"."
      ]
    },
    {
      "cell_type": "code",
      "source": [
        "frase = input('Introduce una frase: ')\n",
        "print(frase.replace('a','@'))"
      ],
      "metadata": {
        "id": "Sg6Evkb5i_iD"
      },
      "execution_count": null,
      "outputs": []
    },
    {
      "cell_type": "markdown",
      "metadata": {
        "id": "563273a8"
      },
      "source": [
        "23 - Crea un código que solicite una frase al usuario y luego imprima la misma frase con todas las consonantes \"s\" reemplazadas por el carácter \"$\"."
      ]
    },
    {
      "cell_type": "code",
      "source": [
        "frase = input('Introduce una frase: ')\n",
        "print(frase.replace('s','$'))"
      ],
      "metadata": {
        "id": "kUBnVYAujm36"
      },
      "execution_count": null,
      "outputs": []
    },
    {
      "cell_type": "markdown",
      "source": [
        "##**Es hora de practicar:** *Estructuras condiconales.*"
      ],
      "metadata": {
        "id": "5E6pxyp4DM59"
      }
    },
    {
      "cell_type": "markdown",
      "metadata": {
        "id": "b6d953a8"
      },
      "source": [
        "1 - Escribe un programa que pida a la persona usuaria que proporcione dos números y muestre el número más grande."
      ]
    },
    {
      "cell_type": "code",
      "source": [
        "numero_1 = int(input('Introduce el primer numero: '))\n",
        "numero_2 = int(input('Introduce el segundo numero: '))\n",
        "\n",
        "if numero_1 > numero_2:\n",
        "  print(f'El numero',numero_1,'es mayor')\n",
        "\n",
        "elif numero_1 == numero_2:\n",
        "  print(f'Son iguales')\n",
        "\n",
        "else:\n",
        "  print(f'El numero',numero_2,'es mayor')"
      ],
      "metadata": {
        "id": "o_eQF7rBGfVv"
      },
      "execution_count": null,
      "outputs": []
    },
    {
      "cell_type": "markdown",
      "metadata": {
        "id": "71373eb4"
      },
      "source": [
        "2 - Escribe un programa que solicite el porcentaje de crecimiento de producción de una empresa e informe si hubo un crecimiento (porcentaje positivo) o una disminución (porcentaje negativo)."
      ]
    },
    {
      "cell_type": "code",
      "source": [
        "porcentaje_1 = float(input('Introduce el porcentaje de crecimiento de producción del primer año: '))\n",
        "porcentaje_2 = float(input('Introduce el porcentaje de crecimiento de producción del segundo año: '))\n",
        "\n",
        "if porcentaje_1 < porcentaje_2:\n",
        "  print(f'El porcentaje de crecimiento es positivo')\n",
        "\n",
        "elif porcentaje_1 > porcentaje_2:\n",
        "  print(f'El porcentaje de crecimiento es negativo')\n",
        "\n",
        "else:\n",
        "  print('No hay variación')\n"
      ],
      "metadata": {
        "id": "f0DXdG-FJbgR"
      },
      "execution_count": null,
      "outputs": []
    },
    {
      "cell_type": "markdown",
      "metadata": {
        "id": "e6465a5c"
      },
      "source": [
        "3 - Escribe un programa que determine si una letra proporcionada por la persona usuaria es una vocal o una consonante."
      ]
    },
    {
      "cell_type": "code",
      "source": [
        "vocales = 'a,e,i,o,u'\n",
        "\n",
        "letra_usuario = input('Digite una letra')\n",
        "\n",
        "if letra_usuario in vocales:\n",
        "  print('Tu letra es una vocal')\n",
        "\n",
        "else :\n",
        "  print('Tu letra es una consonante')\n"
      ],
      "metadata": {
        "id": "sbib5YAhQZML"
      },
      "execution_count": null,
      "outputs": []
    },
    {
      "cell_type": "markdown",
      "metadata": {
        "id": "fd9fb40b"
      },
      "source": [
        "4 - Escribe un programa que lea valores promedio de precios de un modelo de automóvil durante 3 años consecutivos y muestre el valor más alto y más bajo entre esos tres años."
      ]
    },
    {
      "cell_type": "code",
      "metadata": {
        "id": "bf461a39"
      },
      "source": [
        "precio1 = float(input('Ingrese el precio del primer año: '))\n",
        "precio2 = float(input('Ingrese el precio del segundo año: '))\n",
        "precio3 = float(input('Ingrese el precio del tercer año: '))\n",
        "\n",
        "precio_mas_alto = precio1\n",
        "if precio2 > precio_mas_alto:\n",
        "  precio_mas_alto = precio2\n",
        "if precio3 > precio_mas_alto:\n",
        "  precio_mas_alto = precio3\n",
        "\n",
        "precio_mas_bajo = precio1\n",
        "if precio2 < precio_mas_bajo:\n",
        "  precio_mas_bajo = precio2\n",
        "if precio3 < precio_mas_bajo:\n",
        "  precio_mas_bajo = precio3\n",
        "\n",
        "print(f'El precio más alto es: {precio_mas_alto:.2f}')\n",
        "print(f'El precio más bajo es: {precio_mas_bajo:.2f}')"
      ],
      "execution_count": null,
      "outputs": []
    },
    {
      "cell_type": "code",
      "metadata": {
        "id": "3a874299"
      },
      "source": [
        "# opcional\n",
        "precio_año1 = float(input('Ingrese el precio promedio del automóvil en el primer año: '))\n",
        "precio_año2 = float(input('Ingrese el precio promedio del automóvil en el segundo año: '))\n",
        "precio_año3 = float(input('Ingrese el precio promedio del automóvil en el tercer año: '))\n",
        "\n",
        "precio_mas_alto = max(precio_año1, precio_año2, precio_año3)\n",
        "precio_mas_bajo = min(precio_año1, precio_año2, precio_año3)\n",
        "\n",
        "print(f'El precio promedio más alto entre los tres años es: {precio_mas_alto:.2f}')\n",
        "print(f'El precio promedio más bajo entre los tres años es: {precio_mas_bajo:.2f}')"
      ],
      "execution_count": null,
      "outputs": []
    },
    {
      "cell_type": "markdown",
      "metadata": {
        "id": "7a2ad515"
      },
      "source": [
        "5 - Escribe un programa que pregunte sobre el precio de tres productos e indique cuál es el producto más barato para comprar."
      ]
    },
    {
      "cell_type": "code",
      "source": [
        "precio_producto1 = float(input\n",
        " ('Ingrese el precio en CLP del primer producto: '))\n",
        "precio_producto2 = float(input\n",
        " ('Ingrese el precio en CLP del segundo producto: '))\n",
        "precio_producto3 = float(input\n",
        " ('Ingrese el precio en CLP del tercer producto: '))\n",
        "\n",
        "precio_mas_bajo = precio_producto1\n",
        "if precio_producto2 < precio_mas_bajo:\n",
        "  precio_mas_bajo = precio_producto2\n",
        "if precio_producto3 < precio_mas_bajo:\n",
        "  precio_mas_bajo = precio_producto3\n",
        "\n",
        "print(f'El precio más bajo es: {precio_mas_bajo:.2f}')"
      ],
      "metadata": {
        "id": "v1R6yCU_f2Fg"
      },
      "execution_count": null,
      "outputs": []
    },
    {
      "cell_type": "markdown",
      "metadata": {
        "id": "9293ebe5"
      },
      "source": [
        "6 - Escribe un programa que lea tres números y los muestre en orden descendente."
      ]
    },
    {
      "cell_type": "code",
      "source": [
        "primer_numero = int(input('Ingrese el primer numero: '))\n",
        "segundo_numero = int(input('Ingrese el segundo numero: '))\n",
        "tercer_numero = int(input('Ingrese el tercer numero: '))\n",
        "\n",
        "if (primer_numero >= segundo_numero) and\\\n",
        " (primer_numero >= tercer_numero):\n",
        "  print(primer_numero)\n",
        "  if segundo_numero >= tercer_numero:\n",
        "    print(segundo_numero)\n",
        "    print(tercer_numero)\n",
        "  else:\n",
        "    print(tercer_numero)\n",
        "    print(segundo_numero)\n",
        "elif (segundo_numero >= primer_numero) \\\n",
        "and (segundo_numero >= tercer_numero):\n",
        "  print(segundo_numero)\n",
        "  if primer_numero >= tercer_numero:\n",
        "    print(primer_numero)\n",
        "    print(tercer_numero)\n",
        "  else:\n",
        "    print(tercer_numero)\n",
        "    print(primer_numero)\n",
        "else:\n",
        "  print(tercer_numero)\n",
        "  if primer_numero >= segundo_numero:\n",
        "    print(primer_numero)\n",
        "    print(segundo_numero)\n",
        "  else:\n",
        "    print(segundo_numero)\n",
        "    print(primer_numero)\n"
      ],
      "metadata": {
        "id": "ZlSXKViwh3qx"
      },
      "execution_count": null,
      "outputs": []
    },
    {
      "cell_type": "markdown",
      "metadata": {
        "id": "74d0e871"
      },
      "source": [
        "7 -Escribe un programa que pregunte en qué turno estudia la persona usuaria (\"mañana\", \"tarde\" o \"noche\") y muestre el mensaje \"¡Buenos Días!\", \"¡Buenas Tardes!\", \"¡Buenas Noches!\" o \"Valor Inválido!\", según el caso."
      ]
    },
    {
      "cell_type": "code",
      "source": [
        "turno = input('En que turno estudias? (mañana, tarde o noche)')\n",
        "\n",
        "if turno == 'mañana':\n",
        "  print('¡Buenos días!')\n",
        "elif turno == 'tarde':\n",
        "  print('¡Buenas tardes!')\n",
        "elif turno == 'noche':\n",
        "  print('¡Buenas noches!')\n",
        "else:\n",
        "  print('Valor inválido')"
      ],
      "metadata": {
        "id": "TtI3vx-CuKkd"
      },
      "execution_count": null,
      "outputs": []
    },
    {
      "cell_type": "markdown",
      "metadata": {
        "id": "2ee6b9f5"
      },
      "source": [
        "8 - Escribe un programa que solicite un número entero a la persona usuaria y determine si es par o impar. Pista: Puedes usar el operador módulo (%)."
      ]
    },
    {
      "cell_type": "code",
      "source": [
        "numero = int(input('Ingrese un numero entero: '))\n",
        "\n",
        "if numero % 2 == 0:\n",
        "  print('El numero es par')\n",
        "else:\n",
        "  print('El numero es impar')"
      ],
      "metadata": {
        "id": "OzhmWRAtutoj"
      },
      "execution_count": null,
      "outputs": []
    },
    {
      "cell_type": "markdown",
      "metadata": {
        "id": "993bcdf7"
      },
      "source": [
        "9 - Escribe un programa que pida un número a la persona usuaria y le informe si es entero o decimal."
      ]
    },
    {
      "cell_type": "code",
      "source": [
        "numero = float(input('Ingrese un numero: '))\n",
        "\n",
        "if numero % 1 == 0:\n",
        "  print('El numero es entero')\n",
        "else:\n",
        "  print('El numero es decimal')"
      ],
      "metadata": {
        "id": "82bsSsdLwoKx"
      },
      "execution_count": null,
      "outputs": []
    },
    {
      "cell_type": "markdown",
      "metadata": {
        "id": "42b6208f"
      },
      "source": [
        "Momento de los proyectos\n",
        "\n",
        "10 - Un programa debe ser escrito para leer dos números y luego preguntar a la persona usuaria qué operación desea realizar. El resultado de la operación debe incluir información sobre el número, si es par o impar, positivo o negativo, e entero o decimal."
      ]
    },
    {
      "cell_type": "code",
      "source": [
        "numero1 = float(input('Digite el primer numero: '))\n",
        "numero2 = float(input('Digite el segundo numero: '))\n",
        "operacion_solicitada = input('Que operacion desea realizar? \\\n",
        "(suma, resta, multiplicacion, division): ')\n",
        "\n",
        "if operacion_solicitada == 'suma':\n",
        "    resultado = numero1 + numero2\n",
        "elif operacion_solicitada == 'resta':\n",
        "    resultado = numero1 - numero2\n",
        "elif operacion_solicitada == 'multiplicacion':\n",
        "    resultado = numero1 * numero2\n",
        "elif operacion_solicitada == 'division':\n",
        "    if numero2 == 0:\n",
        "        print('No se puede dividir por cero.')\n",
        "        resultado = None\n",
        "    else:\n",
        "        resultado = numero1 / numero2\n",
        "else:\n",
        "    print('Operacion invalida')\n",
        "    resultado = None\n",
        "\n",
        "if resultado is not None:\n",
        "    print(f'El resultado de la operacion es: {resultado}')\n",
        "\n",
        "    if resultado % 2 == 0:\n",
        "        print(f'El resultado es par')\n",
        "    else:\n",
        "        print(f'El resultado es impar')\n",
        "\n",
        "    if resultado > 0:\n",
        "        print(f'El resultado es positivo')\n",
        "    elif resultado < 0:\n",
        "        print(f'El resultado es negativo')\n",
        "    else:\n",
        "        print(f'El resultado es cero')\n",
        "\n",
        "    if resultado % 1 == 0:\n",
        "        print(f'El resultado es entero')\n",
        "    else:\n",
        "        print(f'El resultado es decimal')"
      ],
      "metadata": {
        "id": "_0QSWilRejPM"
      },
      "execution_count": null,
      "outputs": []
    },
    {
      "cell_type": "markdown",
      "metadata": {
        "id": "58741800"
      },
      "source": [
        "11 - Escribe un programa que pida a la persona usuaria tres números que representan los lados de un triángulo. El programa debe informar si los valores pueden utilizarse para formar un triángulo y, en caso afirmativo, si es equilátero, isósceles o escaleno. Ten en cuenta algunas sugerencias:\n",
        "\n",
        "*   Tres lados forman un triángulo cuando la suma de cualesquiera dos lados es mayor que el tercero;\n",
        "*   Triángulo Equilátero: tres lados iguales;\n",
        "*   Triángulo Isósceles: dos lados iguales;\n",
        "*   Triángulo Escaleno: tres lados diferentes."
      ]
    },
    {
      "cell_type": "code",
      "source": [
        "lado_a = float(input\n",
        " ('Ingrese la medida del primer lado del triángulo: '))\n",
        "lado_b = float(input\n",
        " ('Ingrese la medida del segundo lado del triángulo: '))\n",
        "lado_c = float(input\n",
        " ('Ingrese la medida del tercer lado del triángulo: '))\n",
        "\n",
        "if ((lado_a + lado_b) > lado_c ) and\\\n",
        "   ((lado_c + lado_a) > lado_b ) and\\\n",
        "   ((lado_b + lado_c) > lado_a ) :\n",
        "  print ('Estos valores forman un triangulo')\n",
        "  if  lado_a == lado_b == lado_c :\n",
        "    print ('El triangulo es Equilátero')\n",
        "  elif (lado_a == lado_b and lado_a != lado_c) or\\\n",
        "      (lado_a == lado_c and lado_b != lado_a) or\\\n",
        "        (lado_b == lado_c and lado_a != lado_b) :\n",
        "      print ('El triangulo es Isósceles')\n",
        "  elif lado_a != lado_b and lado_b != lado_c and lado_a != lado_c :\n",
        "      print ('El triangulo es Escaleno')\n",
        "else : print('Estos valores no forman un triangulo')\n"
      ],
      "metadata": {
        "id": "iV3PagzZxdfn"
      },
      "execution_count": null,
      "outputs": []
    },
    {
      "cell_type": "markdown",
      "metadata": {
        "id": "6c588d52"
      },
      "source": [
        "12 - Un establecimiento está vendiendo combustibles con descuentos variables. Para el etanol, si la cantidad comprada es de hasta 15 litros, el descuento será del 2% por litro. En caso contrario, será del 4% por litro. Para el diésel, si la cantidad comprada es de hasta 15 litros, el descuento será del 3% por litro. En caso contrario, será del 5% por litro. El precio por litro de diésel es de  2,00 y el precio por litro de etanol es de 1,70. Escribe un programa que lea la cantidad de litros vendidos y el tipo de combustible (E para etanol y D para diésel) y calcule el valor a pagar por el cliente. Ten en cuenta algunas sugerencias:\n",
        "\n",
        "*   El valor del descuento será el producto del precio por litro, la cantidad de litros y el valor del descuento.\n",
        "*   El valor a pagar por un cliente será el resultado de la multiplicación del precio por litro por la cantidad de litros menos el valor del descuento resultante del cálculo."
      ]
    },
    {
      "cell_type": "code",
      "source": [
        "litros_vendidos = float(input\n",
        " ('Ingrese los litros de Etanol vendidos: '))\n",
        "tipo_combustible = (\n",
        "    input\n",
        " ('Ingrese tipo de combustible (E): Para Etanol, (D): Para Diesel ')\n",
        " ).upper(\n",
        "\n",
        " )\n",
        "\n",
        "valor_etanol_litro = 1.70\n",
        "valor_diesel_litro = 2.00\n",
        "\n",
        "\n",
        "\n",
        "if  litros_vendidos <= 15.00 and tipo_combustible == 'E':\n",
        "  print(\"\\n=============================\")\n",
        "  print(\"  Cálculo de Etanol (E)\")\n",
        "  print(\"=============================\")\n",
        "  tasa_pago_etanol = 1.00 - 0.02\n",
        "  descuento_etanol = 2\n",
        "  valor_final_etanol = (\n",
        "       valor_etanol_litro * litros_vendidos * tasa_pago_etanol\n",
        "   )\n",
        "  print(f'El el descuento es del {descuento_etanol}%, ' +\n",
        "   f'valor total a pagar por litro Etanol: ${valor_final_etanol:.2f}')\n",
        "\n",
        "elif litros_vendidos > 15.00 :\n",
        "   tasa_pago_etanol = 1.00 - 0.04\n",
        "   descuento_etanol = 4\n",
        "   valor_final_etanol = (\n",
        "       valor_etanol_litro * litros_vendidos * tasa_pago_etanol\n",
        "   )\n",
        "   print(f'El el descuento es del {descuento_etanol}%,' +\n",
        "   f'valor total a pagar  por litro Etanol: ${valor_final_etanol:.2f}')\n",
        "\n",
        "\n",
        "\n",
        "if  litros_vendidos <= 15.00 and tipo_combustible == 'D' :\n",
        "  print(\"\\n=============================\")\n",
        "  print(\"  Cálculo de Diésel (D)\")\n",
        "  print(\"=============================\")\n",
        "  tasa_pago_diesel = 1.00 - 0.03\n",
        "  descuento_diesel = 3\n",
        "  valor_final_diesel = (\n",
        "        valor_diesel_litro * litros_vendidos * tasa_pago_diesel\n",
        "  )\n",
        "  print(f'El el descuento es del {descuento_diesel}%,' +\n",
        "  f'valor total a pagar por litro Diésel: ${valor_final_diesel:.2f}')\n",
        "\n",
        "elif litros_vendidos > 15.00 :\n",
        "    tasa_pago_diesel = 1.00 - 0.05\n",
        "    descuento_diesel = 5\n",
        "    valor_final_diesel = (\n",
        "        valor_diesel_litro * litros_vendidos * tasa_pago_diesel\n",
        "    )\n",
        "    print(f'El el descuento es del {descuento_diesel}%,' +\n",
        "    f'valor total a pagar por litro Diésel: ${valor_final_diesel:.2f}')"
      ],
      "metadata": {
        "id": "-8sIKCkqxeEU"
      },
      "execution_count": null,
      "outputs": []
    },
    {
      "cell_type": "code",
      "source": [
        "litros_vendidos = float(input\n",
        "('Ingrese los litros vendidos: '))\n",
        "tipo_combustible = (\n",
        "    input\n",
        "('Ingrese tipo de combustible (E): Para Etanol, (D): Para Diesel ')\n",
        ").upper(\n",
        "\n",
        ")\n",
        "\n",
        "if  tipo_combustible == 'E' :\n",
        "\n",
        "  print(\"\\n=============================\")\n",
        "  print(\"  Cálculo de Etanol (E)\")\n",
        "  print(\"=============================\")\n",
        "  valor_litro = 1.70\n",
        "\n",
        "  if  litros_vendidos <= 15.00 :\n",
        "\n",
        "    tasa_descuento = 0.02\n",
        "    descuento = 2\n",
        "\n",
        "  else :\n",
        "    tasa_descuento = 0.04\n",
        "    descuento = 4\n",
        "\n",
        "\n",
        "\n",
        "\n",
        "elif tipo_combustible == 'D' :\n",
        "\n",
        "  print(\"\\n=============================\")\n",
        "  print(\"  Cálculo de Diésel (D)\")\n",
        "  print(\"=============================\")\n",
        "\n",
        "  valor_litro = 2.00\n",
        "\n",
        "  if litros_vendidos <= 15.00 :\n",
        "\n",
        "      tasa_descuento = 0.03\n",
        "      descuento = 3\n",
        "\n",
        "  else :\n",
        "    tasa_descuento = 0.05\n",
        "    descuento = 5\n",
        "\n",
        "\n",
        "else :\n",
        "    print('Entradas no válidas!')\n",
        "    litros_vendidos = 0\n",
        "    valor_litro = 0.0\n",
        "    tasa_descuento = 0.0\n",
        "    descuento = 0\n",
        "\n",
        "\n",
        "valor_descuento = (\n",
        "        valor_litro * litros_vendidos * tasa_descuento\n",
        "    )\n",
        "valor_total = (\n",
        "    valor_litro * litros_vendidos - valor_descuento\n",
        ")\n",
        "print(f'El el descuento es del {descuento}%,' +\n",
        "f'valor total a pagar por litro: ${valor_total:.2f}')"
      ],
      "metadata": {
        "id": "BghyIgpSjcLe"
      },
      "execution_count": null,
      "outputs": []
    },
    {
      "cell_type": "code",
      "source": [
        "litros_vendidos = float(input('Ingrese los litros vendidos: '))\n",
        "tipo_combustible = (\n",
        "    input('Ingrese tipo de combustible (E): Para Etanol, (D): Para Diesel ')\n",
        ").upper()\n",
        "\n",
        "# 1. INICIALIZACIÓN (Para prevenir NameError en caso de entrada inválida)\n",
        "valor_litro = 0.0\n",
        "tasa_descuento = 0.0\n",
        "descuento = 0\n",
        "\n",
        "if tipo_combustible == 'E':\n",
        "    print(\"\\n=============================\")\n",
        "    print(\"  Cálculo de Etanol (E)\")\n",
        "    print(\"=============================\")\n",
        "    # Asignamos SOLO la variable base. La lógica del descuento viene después.\n",
        "    valor_litro = 1.70\n",
        "\n",
        "elif tipo_combustible == 'D':\n",
        "    print(\"\\n=============================\")\n",
        "    print(\"  Cálculo de Diésel (D)\")\n",
        "    print(\"=============================\")\n",
        " # Asignamos SOLO la variable base. La lógica del descuento viene después.\n",
        "    valor_litro = 2.00\n",
        "\n",
        "else:\n",
        "    print('Entradas no válidas!')\n",
        "    litros_vendidos = 0\n",
        "# Las inicializaciones del inicio ya cubren este caso (valor_litro = 0.0, etc.)\n",
        "\n",
        "\n",
        "# --- LÓGICA DE DESCUENTO CENTRALIZADA (DRY) ---\n",
        "# Esta lógica solo se ejecuta si se ha asignado un valor_litro (> 0),\n",
        "# lo que significa que el combustible era válido.\n",
        "if valor_litro > 0:\n",
        "\n",
        "    # 2. ÚNICA CONDICIÓN POR CANTIDAD\n",
        "    # El umbral de descuento por cantidad (15.00) es el mismo para AMBOS.\n",
        "    if litros_vendidos <= 15.00:\n",
        "\n",
        "        # APLICACIÓN DE LA TASA ESPECÍFICA SEGÚN EL COMBUSTIBLE\n",
        "        if tipo_combustible == 'E':\n",
        "            tasa_descuento = 0.02\n",
        "            descuento = 2\n",
        "        else: # Si no es 'E', debe ser 'D' (el único otro caso válido)\n",
        "            tasa_descuento = 0.03\n",
        "            descuento = 3\n",
        "\n",
        "    else: # Esto aplica a litros_vendidos > 15.00\n",
        "\n",
        "        # APLICACIÓN DE LA TASA ESPECÍFICA SEGÚN EL COMBUSTIBLE\n",
        "        if tipo_combustible == 'E':\n",
        "            tasa_descuento = 0.04\n",
        "            descuento = 4\n",
        "        else: # Si no es 'E', debe ser 'D'\n",
        "            tasa_descuento = 0.05\n",
        "            descuento = 5\n",
        "\n",
        "# --- CÁLCULO FINAL (DRY) ---\n",
        "# ... (Tu código de cálculo final aquí, que ya estaba correcto)\n",
        "valor_descuento = (\n",
        "        valor_litro * litros_vendidos * tasa_descuento\n",
        "    )\n",
        "valor_total = (\n",
        "    valor_litro * litros_vendidos - valor_descuento\n",
        ")\n",
        "print(f'El descuento es del {descuento}%,'\n",
        "      f'valor total a pagar por litro: ${valor_total:.2f}')"
      ],
      "metadata": {
        "colab": {
          "base_uri": "https://localhost:8080/"
        },
        "id": "Wxr-siGKA1s0",
        "outputId": "f7000faa-0307-4a82-dab2-f3ced955ceb2"
      },
      "execution_count": null,
      "outputs": [
        {
          "output_type": "stream",
          "name": "stdout",
          "text": [
            "Ingrese los litros vendidos: 0\n",
            "Ingrese tipo de combustible (E): Para Etanol, (D): Para Diesel z\n",
            "Entradas no válidas!\n",
            "El descuento es del 0%,valor total a pagar por litro: $0.00\n"
          ]
        }
      ]
    },
    {
      "cell_type": "markdown",
      "metadata": {
        "id": "dedc395d"
      },
      "source": [
        "13 - En una empresa de venta de bienes raíces, debes crear un código que analice los datos de ventas anuales para ayudar a la dirección en la toma de decisiones. El código debe recopilar los datos de cantidad de ventas durante los años 2022 y 2023 y calcular la variación porcentual. A partir del valor de la variación, se deben proporcionar las siguientes sugerencias:\n",
        "\n",
        "*   Para una variación superior al 20%: bonificación para el equipo de ventas.\n",
        "*   Para una variación entre el 2% y el 20%: pequeña bonificación para el equipo de ventas.\n",
        "*   Para una variación entre el 2% y el -10%: planificación de políticas de incentivo a las ventas.\n",
        "*   Para bonificaciones inferiores al -10%: recorte de gastos."
      ]
    },
    {
      "cell_type": "code",
      "source": [
        "ventas_2022 = float(input\n",
        " ('Ingrese las ventas del año 2022: '))\n",
        "ventas_2023 = float(input\n",
        " ('Ingrese las ventas del año 2023: '))\n",
        "\n",
        "variacion_ventas = (ventas_2023 - ventas_2022) / ventas_2022\n",
        "variacion_porcentual = variacion_ventas * 100\n",
        "\n",
        "if variacion_porcentual > 20.0 :\n",
        "  print('Bonificación para el equipo de ventas')\n",
        "\n",
        "elif 2 <= variacion_porcentual <=20 :\n",
        "  print('Pequeña bonificación para el equipo de ventas.')\n",
        "\n",
        "elif -10 < variacion_porcentual <2 :\n",
        "  print('Planificación de políticas de incentivo a las ventas')\n",
        "\n",
        "else :\n",
        "  print('Recorte de gastos.')\n",
        "\n"
      ],
      "metadata": {
        "id": "7RoIH2kgxem9",
        "colab": {
          "base_uri": "https://localhost:8080/"
        },
        "outputId": "ed1deacf-6907-48d7-d305-b4eec6ad6f9d"
      },
      "execution_count": null,
      "outputs": [
        {
          "output_type": "stream",
          "name": "stdout",
          "text": [
            "Ingrese las ventas del año 2022: 3000\n",
            "Ingrese las ventas del año 2023: 2000\n",
            "Recorte de gastos.\n"
          ]
        }
      ]
    },
    {
      "cell_type": "markdown",
      "source": [
        "##**Hora de practicar** : *Estructuras de repetición*"
      ],
      "metadata": {
        "id": "MJJzGh4MAqTK"
      }
    },
    {
      "cell_type": "markdown",
      "metadata": {
        "id": "073944a8"
      },
      "source": [
        "Entrenando la programación"
      ]
    },
    {
      "cell_type": "markdown",
      "metadata": {
        "id": "4c20ac87"
      },
      "source": [
        "1 - Escribe un programa que solicite dos números enteros e imprima todos los números enteros entre ellos."
      ]
    },
    {
      "cell_type": "code",
      "source": [
        "numero_1 = int(input('Digite el primer numero: '))\n",
        "numero_2 = int(input('Digite el segundo numero: '))\n",
        "\n",
        "if numero_1 < numero_2:\n",
        "  for i in range(numero_1 +1, numero_2):\n",
        "    print(i)\n",
        "elif numero_1 > numero_2:\n",
        "    for i in range(numero_2 +1, numero_1):\n",
        "      print(i)\n",
        "else:\n",
        "  print('Los números son iguales.')\n"
      ],
      "metadata": {
        "id": "Dd_lVNTCCq9g",
        "outputId": "2c039c9e-058d-41bd-86b5-4194ed942e56",
        "colab": {
          "base_uri": "https://localhost:8080/"
        }
      },
      "execution_count": null,
      "outputs": [
        {
          "output_type": "stream",
          "name": "stdout",
          "text": [
            "Digite el primer numero: 5\n",
            "Digite el segundo numero: 10\n",
            "6\n",
            "7\n",
            "8\n",
            "9\n"
          ]
        }
      ]
    },
    {
      "cell_type": "markdown",
      "metadata": {
        "id": "f2b2cf07"
      },
      "source": [
        "2 - Escribe un programa para calcular cuántos días tomará que la colonia de una bacteria A supere o iguale a la colonia de una bacteria B, basado en tasas de crecimiento del 3% y 1.5%, respectivamente. Supón que la colonia A comienza con 4 elementos y B con 10."
      ]
    },
    {
      "cell_type": "code",
      "source": [
        "colonia_a = 4.0\n",
        "colonia_b = 10.0\n",
        "dias = 0\n",
        "\n",
        "while colonia_a < colonia_b :\n",
        "  dias += 1\n",
        "  colonia_a = colonia_a * 1.03\n",
        "  colonia_b = colonia_b * 1.015\n",
        "\n",
        "print(f\"La Colonia A alcanzó a la B en {dias} días.\")\n"
      ],
      "metadata": {
        "colab": {
          "base_uri": "https://localhost:8080/"
        },
        "id": "O_opyA9xHEzS",
        "outputId": "e59eb65e-4a47-45cb-ecc2-1650d77f0492"
      },
      "execution_count": null,
      "outputs": [
        {
          "output_type": "stream",
          "name": "stdout",
          "text": [
            "La Colonia A alcanzó a la B en 63 días.\n"
          ]
        }
      ]
    },
    {
      "cell_type": "markdown",
      "metadata": {
        "id": "0dc8eb78"
      },
      "source": [
        "3 - Para procesar una cantidad de 15 datos de evaluaciones de usuarios de un servicio de la empresa, necesitamos verificar si las calificaciones son válidas. Por lo tanto, escribe un programa que recibirá calificaciones del 0 al 5 y verificará si son valores válidos. Si se ingresa una calificación superior a 5 o inferior a 0, se repetirá hasta que el usuario ingrese un valor válido."
      ]
    },
    {
      "cell_type": "code",
      "source": [
        "for i in range(1,16):\n",
        "  calificacion = float(input(f'Ingresa la calificacion del usuario {i}: '))\n",
        "\n",
        "\n",
        "  while (calificacion < 0) or (calificacion > 5):\n",
        "    calificacion = float(input(f'calificacion no válida, ingresa nuevamente la calificacion del usuario {i}: '))\n",
        "\n",
        "print('Verificación completa. Todas las calificaciones son válidas.')\n"
      ],
      "metadata": {
        "collapsed": true,
        "id": "vfcZufkTeZeK",
        "outputId": "98162732-8303-4311-ba67-aab44d992d4f",
        "colab": {
          "base_uri": "https://localhost:8080/"
        }
      },
      "execution_count": null,
      "outputs": [
        {
          "output_type": "stream",
          "name": "stdout",
          "text": [
            "Ingresa la calificacion del usuario 1: 5\n",
            "Ingresa la calificacion del usuario 2: 5\n",
            "Ingresa la calificacion del usuario 3: 5\n",
            "Ingresa la calificacion del usuario 4: 5\n",
            "Ingresa la calificacion del usuario 5: 5\n",
            "Ingresa la calificacion del usuario 6: 5\n",
            "Ingresa la calificacion del usuario 7: 5\n",
            "Ingresa la calificacion del usuario 8: 5\n",
            "Ingresa la calificacion del usuario 9: 5\n",
            "Ingresa la calificacion del usuario 10: 5\n",
            "Ingresa la calificacion del usuario 11: 5\n",
            "Ingresa la calificacion del usuario 12: 5\n",
            "Ingresa la calificacion del usuario 13: 5\n",
            "Ingresa la calificacion del usuario 14: 5\n",
            "Ingresa la calificacion del usuario 15: 5\n",
            "Verificación completa. Todas las calificaciones son válidas.\n"
          ]
        }
      ]
    },
    {
      "cell_type": "markdown",
      "metadata": {
        "id": "1dd67af9"
      },
      "source": [
        "4 - Desarrolla un programa que lea un conjunto indefinido de temperaturas en grados Celsius y calcule su promedio. La lectura debe detenerse al ingresar el valor -273°C."
      ]
    },
    {
      "cell_type": "code",
      "source": [
        "suma_temperatura = 0\n",
        "conteo_temperatura = 0\n",
        "temperatura = 0\n",
        "\n",
        "while temperatura != -273 :\n",
        "  temperatura = float(\n",
        "      input('Ingrese las temperaturas a promediar en celcius: ')\n",
        "      )\n",
        "\n",
        "  if  temperatura != -273 :\n",
        "\n",
        "    suma_temperatura += temperatura\n",
        "    conteo_temperatura += 1\n",
        "\n",
        "if conteo_temperatura > 0 :\n",
        "\n",
        "  promedio_temperatura = suma_temperatura / conteo_temperatura\n",
        "\n",
        "  print(f'El promedio de las temperaturas es: {promedio_temperatura}')\n",
        "\n",
        "else:\n",
        "    print('No se ingresaron temperaturas válidas para promediar.')\n"
      ],
      "metadata": {
        "id": "sxNGhdVpXuHf",
        "outputId": "1589cbf9-1119-4cef-95c5-12a0caa19b80",
        "colab": {
          "base_uri": "https://localhost:8080/"
        }
      },
      "execution_count": null,
      "outputs": [
        {
          "output_type": "stream",
          "name": "stdout",
          "text": [
            "Ingrese las temperaturas a promediar en celcius: -273\n",
            "No se ingresaron temperaturas válidas para promediar.\n"
          ]
        }
      ]
    },
    {
      "cell_type": "markdown",
      "metadata": {
        "id": "e031039a"
      },
      "source": [
        "5 - Escribe un programa que calcule el factorial de un número entero proporcionado por el usuario. Recuerda que el factorial de un número entero es el producto de ese número por todos sus antecesores hasta llegar al número 1. Por ejemplo, el factorial de 5 es 5 x 4 x 3 x 2 x 1 = 120."
      ]
    },
    {
      "cell_type": "code",
      "source": [
        "numero_usuario = int(\n",
        "    input('Ingrese un numero para calcular su factorial: ')\n",
        "    )\n",
        "factorial = 1\n",
        "\n",
        "for i in range(numero_usuario,0,-1) :\n",
        "\n",
        "  factorial *= i\n",
        "  i -= 1\n",
        "\n",
        "print(f'El factorial de {numero_usuario} es {factorial}')"
      ],
      "metadata": {
        "id": "ClAAFfIXrvh6",
        "outputId": "90ec4b73-eab8-4e62-a285-a686fce92900",
        "colab": {
          "base_uri": "https://localhost:8080/"
        }
      },
      "execution_count": null,
      "outputs": [
        {
          "output_type": "stream",
          "name": "stdout",
          "text": [
            "Ingrese un numero para calcular su factorial: 5\n",
            "El factorial de 5 es 120\n"
          ]
        }
      ]
    },
    {
      "cell_type": "code",
      "source": [
        "numero_usuario = int(\n",
        "    input('Ingrese un numero para calcular su factorial: ')\n",
        "    )\n",
        "\n",
        "factorial = 1\n",
        "\n",
        "i = numero_usuario\n",
        "while i > 0:\n",
        "\n",
        "  factorial *= i\n",
        "  i -= 1\n",
        "\n",
        "print(f'El factorial de {numero_usuario} es {factorial}')\n"
      ],
      "metadata": {
        "id": "B7abRA6mjSgr",
        "outputId": "3dfa6944-09f4-4dc7-fc9c-c344e1c4fa31",
        "colab": {
          "base_uri": "https://localhost:8080/"
        }
      },
      "execution_count": null,
      "outputs": [
        {
          "output_type": "stream",
          "name": "stdout",
          "text": [
            "Ingrese un numero para calcular su factorial: 5\n",
            "El factorial de 5 es 120\n"
          ]
        }
      ]
    },
    {
      "cell_type": "code",
      "source": [
        "numero_usuario = int(\n",
        "    input('Ingrese un numero para calcular su factorial: ')\n",
        "    )\n",
        "if numero_usuario < 0 :\n",
        "\n",
        "  print('El factorial no está definido para números negativos')\n",
        "\n",
        "elif numero_usuario == 0:\n",
        "  print(f'El factorial de {numero_usuario} es 1')\n",
        "\n",
        "else:\n",
        "\n",
        "  factorial = 1\n",
        "\n",
        "  for i in range(numero_usuario,0,-1) :\n",
        "\n",
        "      factorial *= i\n",
        "\n",
        "  print(f'El factorial de {numero_usuario} es {factorial}')"
      ],
      "metadata": {
        "id": "lek_JMTluVGn",
        "outputId": "edd072ad-8d4d-4c5b-f13b-d8beb15bf95e",
        "colab": {
          "base_uri": "https://localhost:8080/"
        }
      },
      "execution_count": null,
      "outputs": [
        {
          "output_type": "stream",
          "name": "stdout",
          "text": [
            "Ingrese un numero para calcular su factorial: 5\n",
            "El factorial de 5 es 120\n"
          ]
        }
      ]
    },
    {
      "cell_type": "markdown",
      "metadata": {
        "id": "df1f8bf6"
      },
      "source": [
        "Momento de los proyectos"
      ]
    },
    {
      "cell_type": "markdown",
      "metadata": {
        "id": "bc600df0"
      },
      "source": [
        "6 - Escribe un programa que genere la tabla de multiplicar de un número entero del 1 al 10, según la elección del usuario. Como ejemplo, para el número 2, la tabla de multiplicar debe mostrarse en el siguiente formato:\n",
        "\n",
        "Tabla de multiplicar del 2:\n",
        "2 x 1 = 2\n",
        "2 x 2 = 4\n",
        "[...]\n",
        "2 x 10 = 20"
      ]
    },
    {
      "cell_type": "code",
      "source": [
        "numero_usuario = int(input('Ingrese un numero del 1 al 10: '))\n",
        "\n",
        "print(f'La tabla de multiplicar del {numero_usuario} es: ')\n",
        "\n",
        "for i in range(1,11) :\n",
        "\n",
        "  resultado = numero_usuario * i\n",
        "\n",
        "  print(f'{numero_usuario} x {i} = {resultado}')"
      ],
      "metadata": {
        "colab": {
          "base_uri": "https://localhost:8080/"
        },
        "id": "wkzubNmYrMa1",
        "outputId": "73b74cd1-91d4-4ab9-a013-c55d213bcef0"
      },
      "execution_count": null,
      "outputs": [
        {
          "output_type": "stream",
          "name": "stdout",
          "text": [
            "Ingrese un numero del 1 al 10: 4\n",
            "La tabla de multiplicar del 4 es: \n",
            "4 x 1 = 4\n",
            "4 x 2 = 8\n",
            "4 x 3 = 12\n",
            "4 x 4 = 16\n",
            "4 x 5 = 20\n",
            "4 x 6 = 24\n",
            "4 x 7 = 28\n",
            "4 x 8 = 32\n",
            "4 x 9 = 36\n",
            "4 x 10 = 40\n"
          ]
        }
      ]
    },
    {
      "cell_type": "markdown",
      "metadata": {
        "id": "0f8afce3"
      },
      "source": [
        "7 - Los números primos tienen diversas aplicaciones en Ciencia de Datos, como en criptografía y seguridad. Un número primo es aquel que es divisible solo por sí mismo y por 1. Por lo tanto, crea un programa que solicite un número entero y determine si es un número primo o no."
      ]
    },
    {
      "cell_type": "code",
      "source": [
        "numero_usuario = int(input('Ingrese un número entero: '))\n",
        "\n",
        "if numero_usuario > 1 :\n",
        "\n",
        "    for i in range(2,numero_usuario):\n",
        "\n",
        "        if numero_usuario % i == 0 :\n",
        "            print(f'{numero_usuario} no es un número primo')\n",
        "\n",
        "            break\n",
        "\n",
        "    else:\n",
        "        print(f'{numero_usuario} es un número primo')\n",
        "else:\n",
        "  print(f'{numero_usuario} no es un número primo')"
      ],
      "metadata": {
        "id": "ggznmh0f1nQF",
        "colab": {
          "base_uri": "https://localhost:8080/"
        },
        "outputId": "0069ac93-9251-48fe-9b30-e926a6018875"
      },
      "execution_count": null,
      "outputs": [
        {
          "output_type": "stream",
          "name": "stdout",
          "text": [
            "Ingrese un número entero: 8\n",
            "8 no es un número primo\n"
          ]
        }
      ]
    },
    {
      "cell_type": "code",
      "source": [
        "numero_usuario = int(input('Ingrese un numero entero: '))\n",
        "\n",
        "# 1. Filtra N <= 1 (Correcto: Los números <= 1 NO son primos)\n",
        "if numero_usuario <= 1:\n",
        "    print(f'{numero_usuario} no es un número primo')\n",
        "\n",
        "# 2. Inicia la lógica principal para N >= 2\n",
        "else:\n",
        "    # Recorre desde 2 hasta N-1 (Correcto)\n",
        "    for i in range(2, numero_usuario):\n",
        "\n",
        "        # 3. Verifica la divisibilidad (Correcto)\n",
        "        if numero_usuario % i == 0:\n",
        "            print(f'{numero_usuario} no es un número primo')\n",
        "\n",
        "            # 4. Rompe el bucle si encuentra un divisor (Correcto y eficiente)\n",
        "            break\n",
        "\n",
        "    # 5. La Genialidad: El bloque 'else' del bucle for\n",
        "    else:\n",
        "        # Este 'else' solo se ejecuta si el bucle *termina completamente* # (es decir, NO se ejecutó el 'break').\n",
        "        # Si el bucle terminó sin 'break', significa que N no tiene divisores, ¡es primo!\n",
        "        print(f'{numero_usuario} es un número primo')"
      ],
      "metadata": {
        "id": "JrWHOibFWG2r",
        "outputId": "bbcfa99e-9ecd-4121-a487-617b10a7ff30",
        "colab": {
          "base_uri": "https://localhost:8080/"
        }
      },
      "execution_count": null,
      "outputs": [
        {
          "output_type": "stream",
          "name": "stdout",
          "text": [
            "Ingrese un numero entero: 7\n",
            "7 es un número primo\n"
          ]
        }
      ]
    },
    {
      "cell_type": "markdown",
      "metadata": {
        "id": "9529262b"
      },
      "source": [
        "8 - Vamos a comprender la distribución de edades de los pensionistas de una empresa de seguros. Escribe un programa que lea las edades de una cantidad no informada de clientes y muestre la distribución en los intervalos [0-25], [26-50], [51-75] y [76-100]. La entrada de datos se detendrá al ingresar un número negativo."
      ]
    },
    {
      "cell_type": "code",
      "source": [
        "edad = int(\n",
        "    input('Ingresa la edad (o un número negativo para finalizar): ')\n",
        " )\n",
        "\n",
        "rango_0_25 = 0\n",
        "rango_26_50 = 0\n",
        "rango_51_75 = 0\n",
        "rango_76_100 = 0\n",
        "\n",
        "\n",
        "while edad >0 :\n",
        "\n",
        "  if edad  <= 25 :\n",
        "   rango_0_25 += 1\n",
        "  elif edad >= 26 and edad <= 50 :\n",
        "    rango_26_50 += 1\n",
        "  elif edad >= 51 and edad <= 75 :\n",
        "    rango_51_75 += 1\n",
        "  elif edad >= 76 and edad <= 100 :\n",
        "    rango_76_100 += 1\n",
        "\n",
        "  edad = int(\n",
        "      input('Ingresa la edad (o un número negativo para finalizar): ')\n",
        "      )\n",
        "\n",
        "print('Distribución de edades:')\n",
        "print('[0-25]:', rango_0_25)\n",
        "print('[26-50]:', rango_26_50)\n",
        "print('[51-75]:', rango_51_75)\n",
        "print('[76-100]:', rango_76_100)"
      ],
      "metadata": {
        "colab": {
          "base_uri": "https://localhost:8080/"
        },
        "id": "e1wuwkjh944y",
        "outputId": "4b6f0089-5bab-44e4-b3dd-d7215a9b0233"
      },
      "execution_count": null,
      "outputs": [
        {
          "output_type": "stream",
          "name": "stdout",
          "text": [
            "Ingresa la edad (o un número negativo para finalizar): 34\n",
            "Ingresa la edad (o un número negativo para finalizar): -4\n",
            "Distribución de edades:\n",
            "[0-25]: 0\n",
            "[26-50]: 1\n",
            "[51-75]: 0\n",
            "[76-100]: 0\n"
          ]
        }
      ]
    },
    {
      "cell_type": "markdown",
      "metadata": {
        "id": "67e640fb"
      },
      "source": [
        "9 - En una elección para la gerencia de una empresa con 20 empleados, hay cuatro candidatos. Escribe un programa que calcule al ganador de la elección. La votación se realizó de la siguiente manera:\n",
        "\n",
        "Cada empleado votó por uno de los cuatro candidatos (representados por los números 1, 2, 3 y 4).\n",
        "\n",
        "También se contaron los votos nulos (representados por el número 5) y los votos en blanco (representados por el número 6).\n",
        "\n",
        "Al final de la votación, el programa debe mostrar el número total de votos para cada candidato, los votos nulos y los votos en blanco. Además, debe calcular y mostrar el porcentaje de votos nulos con respecto al total de votos y el porcentaje de votos en blanco con respecto al total de votos."
      ]
    },
    {
      "cell_type": "code",
      "source": [
        "conteo_Candidato_1 = 0\n",
        "conteo_Candidato_2 = 0\n",
        "conteo_Candidato_3 = 0\n",
        "conteo_Candidato_4 = 0\n",
        "conteo_nulos = 0\n",
        "conteo_blanco = 0\n",
        "\n",
        "for i in range(20) :\n",
        "  voto_usuario = int(\n",
        "input('Ingrese el voto por el candidato 1,2,3 o 4,\\\n",
        " ingrese 5 para voto nulo y 6 para voto en blanco: ')\n",
        ")\n",
        "\n",
        "  if voto_usuario == 1 :\n",
        "    conteo_Candidato_1 += 1\n",
        "  elif voto_usuario == 2 :\n",
        "    conteo_Candidato_2 += 1\n",
        "  elif voto_usuario == 3 :\n",
        "    conteo_Candidato_3 += 1\n",
        "  elif voto_usuario == 4 :\n",
        "    conteo_Candidato_4 += 1\n",
        "  elif voto_usuario == 5 :\n",
        "    conteo_nulos += 1\n",
        "  elif voto_usuario == 6 :\n",
        "    conteo_blanco += 1\n",
        "  else:\n",
        "    print('Voto invalido.')\n",
        "\n",
        "else:\n",
        "  print('Distribución de votos:')\n",
        "  print('Candidato numero 1: ', conteo_Candidato_1)\n",
        "  print('Candidato numero 2: ', conteo_Candidato_2)\n",
        "  print('Candidato numero 3: ', conteo_Candidato_3)\n",
        "  print('Candidato numero 4: ', conteo_Candidato_4)\n",
        "  print('Voto nulo', conteo_nulos)\n",
        "  print('Voto en blanco', conteo_blanco)\n",
        "  print(f'Porcentaje de votos nulos: {(conteo_nulos / 20 * 100)}')\n",
        "  print(f'Porcentaje de votos en blanco: {(conteo_blanco / 20 * 100)}')"
      ],
      "metadata": {
        "colab": {
          "base_uri": "https://localhost:8080/"
        },
        "id": "mIUzVkEDkx-v",
        "outputId": "3af76a09-67ed-4d83-af6d-36db04ba35c2"
      },
      "execution_count": 39,
      "outputs": [
        {
          "output_type": "stream",
          "name": "stdout",
          "text": [
            "ingrese el voto por el candidato 1,2,3 o 4, ingrese 5 para voto nulo y 6 para voto en blanco: 5\n",
            "ingrese el voto por el candidato 1,2,3 o 4, ingrese 5 para voto nulo y 6 para voto en blanco: 5\n",
            "ingrese el voto por el candidato 1,2,3 o 4, ingrese 5 para voto nulo y 6 para voto en blanco: 5\n",
            "ingrese el voto por el candidato 1,2,3 o 4, ingrese 5 para voto nulo y 6 para voto en blanco: 5\n",
            "ingrese el voto por el candidato 1,2,3 o 4, ingrese 5 para voto nulo y 6 para voto en blanco: 5\n",
            "Distribución de votos:\n",
            "Candidato numero 1:  0\n",
            "Candidato numero 2:  0\n",
            "Candidato numero 3:  0\n",
            "Candidato numero 4:  0\n",
            "Voto nulo 5\n",
            "Voto en blanco 0\n",
            "Porcentaje de votos nulos: 25.0\n",
            "Porcentaje de votos en blanco: 0.0\n"
          ]
        }
      ]
    },
    {
      "cell_type": "code",
      "source": [
        "conteo_Candidato_1 = 0\n",
        "conteo_Candidato_2 = 0\n",
        "conteo_Candidato_3 = 0\n",
        "conteo_Candidato_4 = 0\n",
        "conteo_nulos = 0\n",
        "conteo_blanco = 0\n",
        "\n",
        "\n",
        "for i in range(20):\n",
        "\n",
        "\n",
        "  while True: # Bucle para asegurar que el voto sea válido.\n",
        "        try:\n",
        "            voto_usuario = int(\n",
        "                input(\n",
        "                f'Voto {i+1} de 20. Ingrese el voto por el candidato 1,2,3 o 4,\\\n",
        " ingrese 5 para voto nulo y 6 para voto en blanco: ')\n",
        "            )\n",
        "        except ValueError:\n",
        "            # Manejo de error si el usuario NO ingresa un número.\n",
        "            print(\"Error: Por favor, ingrese un número.\")\n",
        "            continue # Vuelve al inicio del bucle while.\n",
        "\n",
        "        if voto_usuario == 1 :\n",
        "          conteo_Candidato_1 += 1\n",
        "          break # Si es válido, termina el bucle 'while True'\n",
        "        elif voto_usuario == 2 :\n",
        "          conteo_Candidato_2 += 1\n",
        "          break\n",
        "        elif voto_usuario == 3 :\n",
        "          conteo_Candidato_3 += 1\n",
        "          break\n",
        "        elif voto_usuario == 4 :\n",
        "          conteo_Candidato_4 += 1\n",
        "          break\n",
        "        elif voto_usuario == 5 :\n",
        "          conteo_nulos += 1\n",
        "          break\n",
        "        elif voto_usuario == 6 :\n",
        "          conteo_blanco += 1\n",
        "          break\n",
        "        else:\n",
        "          print('Voto invalido. Intente nuevamente.')\n",
        "          continue\n",
        "else:\n",
        "  print('Distribución de votos:')\n",
        "  print('Candidato numero 1: ', conteo_Candidato_1)\n",
        "  print('Candidato numero 2: ', conteo_Candidato_2)\n",
        "  print('Candidato numero 3: ', conteo_Candidato_3)\n",
        "  print('Candidato numero 4: ', conteo_Candidato_4)\n",
        "  print('Voto nulo', conteo_nulos)\n",
        "  print('Voto en blanco', conteo_blanco)\n",
        "  print(f'Porcentaje de votos nulos: {(conteo_nulos / 20 * 100)}')\n",
        "  print(f'Porcentaje de votos en blanco: {(conteo_blanco / 20 * 100)}')\n",
        "  votos_candidatos = [\n",
        "    conteo_Candidato_1,\n",
        "    conteo_Candidato_2,\n",
        "    conteo_Candidato_3,\n",
        "    conteo_Candidato_4\n",
        "]\n",
        "votos_ganador = max(votos_candidatos)\n",
        "\n",
        "print(f'El ganador es el candidato numero: {votos_candidatos.index(votos_ganador) + 1}')\n"
      ],
      "metadata": {
        "colab": {
          "base_uri": "https://localhost:8080/"
        },
        "outputId": "745d861d-a9fb-47e3-ec9b-874dbe8a3702",
        "id": "ItpEOpv422Gu"
      },
      "execution_count": 61,
      "outputs": [
        {
          "output_type": "stream",
          "name": "stdout",
          "text": [
            "Voto 1 de 20. Ingrese el voto por el candidato 1,2,3 o 4, ingrese 5 para voto nulo y 6 para voto en blanco: 2\n",
            "Voto 2 de 20. Ingrese el voto por el candidato 1,2,3 o 4, ingrese 5 para voto nulo y 6 para voto en blanco: 2\n",
            "Voto 3 de 20. Ingrese el voto por el candidato 1,2,3 o 4, ingrese 5 para voto nulo y 6 para voto en blanco: 2\n",
            "Voto 4 de 20. Ingrese el voto por el candidato 1,2,3 o 4, ingrese 5 para voto nulo y 6 para voto en blanco: 2\n",
            "Voto 5 de 20. Ingrese el voto por el candidato 1,2,3 o 4, ingrese 5 para voto nulo y 6 para voto en blanco: 2\n",
            "Voto 6 de 20. Ingrese el voto por el candidato 1,2,3 o 4, ingrese 5 para voto nulo y 6 para voto en blanco: 2\n",
            "Voto 7 de 20. Ingrese el voto por el candidato 1,2,3 o 4, ingrese 5 para voto nulo y 6 para voto en blanco: 2\n",
            "Voto 8 de 20. Ingrese el voto por el candidato 1,2,3 o 4, ingrese 5 para voto nulo y 6 para voto en blanco: 2\n",
            "Voto 9 de 20. Ingrese el voto por el candidato 1,2,3 o 4, ingrese 5 para voto nulo y 6 para voto en blanco: 2\n",
            "Voto 10 de 20. Ingrese el voto por el candidato 1,2,3 o 4, ingrese 5 para voto nulo y 6 para voto en blanco: 2\n",
            "Voto 11 de 20. Ingrese el voto por el candidato 1,2,3 o 4, ingrese 5 para voto nulo y 6 para voto en blanco: 2\n",
            "Voto 12 de 20. Ingrese el voto por el candidato 1,2,3 o 4, ingrese 5 para voto nulo y 6 para voto en blanco: 2\n",
            "Voto 13 de 20. Ingrese el voto por el candidato 1,2,3 o 4, ingrese 5 para voto nulo y 6 para voto en blanco: 2\n",
            "Voto 14 de 20. Ingrese el voto por el candidato 1,2,3 o 4, ingrese 5 para voto nulo y 6 para voto en blanco: 2\n",
            "Voto 15 de 20. Ingrese el voto por el candidato 1,2,3 o 4, ingrese 5 para voto nulo y 6 para voto en blanco: 2\n",
            "Voto 16 de 20. Ingrese el voto por el candidato 1,2,3 o 4, ingrese 5 para voto nulo y 6 para voto en blanco: 2\n",
            "Voto 17 de 20. Ingrese el voto por el candidato 1,2,3 o 4, ingrese 5 para voto nulo y 6 para voto en blanco: 2\n",
            "Voto 18 de 20. Ingrese el voto por el candidato 1,2,3 o 4, ingrese 5 para voto nulo y 6 para voto en blanco: 2\n",
            "Voto 19 de 20. Ingrese el voto por el candidato 1,2,3 o 4, ingrese 5 para voto nulo y 6 para voto en blanco: 2\n",
            "Voto 20 de 20. Ingrese el voto por el candidato 1,2,3 o 4, ingrese 5 para voto nulo y 6 para voto en blanco: 2\n",
            "Distribución de votos:\n",
            "Candidato numero 1:  0\n",
            "Candidato numero 2:  20\n",
            "Candidato numero 3:  0\n",
            "Candidato numero 4:  0\n",
            "Voto nulo 0\n",
            "Voto en blanco 0\n",
            "Porcentaje de votos nulos: 0.0\n",
            "Porcentaje de votos en blanco: 0.0\n",
            "El ganador es el candidato numero 2\n"
          ]
        }
      ]
    },
    {
      "cell_type": "code",
      "source": [
        "# CÓDIGO FINAL DE LA CALCULADORA DE ELECCIONES\n",
        "conteo_Candidato_1 = 0\n",
        "conteo_Candidato_2 = 0\n",
        "conteo_Candidato_3 = 0\n",
        "conteo_Candidato_4 = 0\n",
        "conteo_nulos = 0\n",
        "conteo_blanco = 0\n",
        "\n",
        "for i in range(20):\n",
        "    while True: # Bucle para asegurar que el voto sea válido.\n",
        "        try:\n",
        "            voto_usuario = int(\n",
        "                input(\n",
        "                f'Voto {i+1} de 20. Ingrese el voto por el candidato 1,2,3 o 4,\\\n",
        " ingrese 5 para voto nulo y 6 para voto en blanco: ')\n",
        "            )\n",
        "        except ValueError:\n",
        "            print(\"Error: Por favor, ingrese un número.\")\n",
        "            continue # Vuelve al inicio del bucle while.\n",
        "\n",
        "        if voto_usuario == 1 :\n",
        "            conteo_Candidato_1 += 1\n",
        "            break\n",
        "        elif voto_usuario == 2 :\n",
        "            conteo_Candidato_2 += 1\n",
        "            break\n",
        "        elif voto_usuario == 3 :\n",
        "            conteo_Candidato_3 += 1\n",
        "            break\n",
        "        elif voto_usuario == 4 :\n",
        "            conteo_Candidato_4 += 1\n",
        "            break\n",
        "        elif voto_usuario == 5 :\n",
        "            conteo_nulos += 1\n",
        "            break\n",
        "        elif voto_usuario == 6 :\n",
        "            conteo_blanco += 1\n",
        "            break\n",
        "        else:\n",
        "            print('Voto invalido. Intente nuevamente.')\n",
        "            continue\n",
        "else: # Este 'else' se ejecuta cuando el bucle 'for' termina normalmente (después de 20 votos).\n",
        "    print('\\n' + '='*40)\n",
        "    print('RESULTADOS FINALES DE LA ELECCIÓN')\n",
        "    print('='*40)\n",
        "    print(f'Votos Candidato 1: {conteo_Candidato_1}')\n",
        "    print(f'Votos Candidato 2: {conteo_Candidato_2}')\n",
        "    print(f'Votos Candidato 3: {conteo_Candidato_3}')\n",
        "    print(f'Votos Candidato 4: {conteo_Candidato_4}')\n",
        "    print(f'Votos Nulos: {conteo_nulos}')\n",
        "    print(f'Votos en Blanco: {conteo_blanco}')\n",
        "    print('-'*40)\n",
        "\n",
        "    # Cálculo y presentación de porcentajes\n",
        "    print(f'Porcentaje de votos nulos: {conteo_nulos / 20 * 100:.2f}%') # Formato a 2 decimales2\n",
        "    print(f'Porcentaje de votos en blanco: {conteo_blanco / 20 * 100:.2f}%')\n",
        "    print('-'*40)\n",
        "\n",
        "    # Determinación del ganador(es)\n",
        "votos_candidatos = [\n",
        "    conteo_Candidato_1,\n",
        "    conteo_Candidato_2,\n",
        "    conteo_Candidato_3,\n",
        "    conteo_Candidato_4\n",
        "]\n",
        "\n",
        "votos_ganador = max(votos_candidatos)\n",
        "\n",
        "# 1. Lista para guardar los números de los candidatos ganadores (1, 2, 3, o 4)\n",
        "candidatos_ganadores = []\n",
        "\n",
        "# 2. Iteramos sobre la lista de votos usando la función enumerate()\n",
        "# 'i' es el índice (0, 1, 2, 3)\n",
        "# 'votos' es el valor de los votos en ese índice\n",
        "for i, votos in enumerate(votos_candidatos):\n",
        "\n",
        "    # 3. Comparamos el valor de votos con el máximo\n",
        "    if votos == votos_ganador:\n",
        "        # El número del candidato es el índice + 1\n",
        "        numero_candidato = i + 1\n",
        "        candidatos_ganadores.append(numero_candidato)\n",
        "\n",
        "# 4. Presentamos el resultado basado en si hay uno o más ganadores\n",
        "if len(candidatos_ganadores) > 1:\n",
        "    # Caso de Empate: hay más de un elemento en la lista\n",
        "    ganadores_str = \", \".join(map(str, candidatos_ganadores))\n",
        "    print(f'¡HAY UN EMPATE! Los candidatos ganadores son: {ganadores_str} con {votos_ganador} votos cada uno. ⚖️')\n",
        "else:\n",
        "    # Caso de un solo ganador\n",
        "    candidato_ganador = candidatos_ganadores[0]\n",
        "    print(f'¡EL GANADOR ES EL CANDIDATO NÚMERO {candidato_ganador} con {votos_ganador} votos! 👑')\n"
      ],
      "metadata": {
        "colab": {
          "base_uri": "https://localhost:8080/"
        },
        "id": "XDQYBIvaLU9p",
        "outputId": "2f30d2c9-f197-4eb6-9693-13754e7d68e7"
      },
      "execution_count": 64,
      "outputs": [
        {
          "output_type": "stream",
          "name": "stdout",
          "text": [
            "Voto 1 de 20. Ingrese el voto por el candidato 1,2,3 o 4, ingrese 5 para voto nulo y 6 para voto en blanco: 2\n",
            "Voto 2 de 20. Ingrese el voto por el candidato 1,2,3 o 4, ingrese 5 para voto nulo y 6 para voto en blanco: 2\n",
            "Voto 3 de 20. Ingrese el voto por el candidato 1,2,3 o 4, ingrese 5 para voto nulo y 6 para voto en blanco: 2\n",
            "Voto 4 de 20. Ingrese el voto por el candidato 1,2,3 o 4, ingrese 5 para voto nulo y 6 para voto en blanco: 2\n",
            "Voto 5 de 20. Ingrese el voto por el candidato 1,2,3 o 4, ingrese 5 para voto nulo y 6 para voto en blanco: 2\n",
            "Voto 6 de 20. Ingrese el voto por el candidato 1,2,3 o 4, ingrese 5 para voto nulo y 6 para voto en blanco: 2\n",
            "Voto 7 de 20. Ingrese el voto por el candidato 1,2,3 o 4, ingrese 5 para voto nulo y 6 para voto en blanco: 2\n",
            "Voto 8 de 20. Ingrese el voto por el candidato 1,2,3 o 4, ingrese 5 para voto nulo y 6 para voto en blanco: 2\n",
            "Voto 9 de 20. Ingrese el voto por el candidato 1,2,3 o 4, ingrese 5 para voto nulo y 6 para voto en blanco: 2\n",
            "Voto 10 de 20. Ingrese el voto por el candidato 1,2,3 o 4, ingrese 5 para voto nulo y 6 para voto en blanco: 2\n",
            "Voto 11 de 20. Ingrese el voto por el candidato 1,2,3 o 4, ingrese 5 para voto nulo y 6 para voto en blanco: 2\n",
            "Voto 12 de 20. Ingrese el voto por el candidato 1,2,3 o 4, ingrese 5 para voto nulo y 6 para voto en blanco: 2\n",
            "Voto 13 de 20. Ingrese el voto por el candidato 1,2,3 o 4, ingrese 5 para voto nulo y 6 para voto en blanco: 2\n",
            "Voto 14 de 20. Ingrese el voto por el candidato 1,2,3 o 4, ingrese 5 para voto nulo y 6 para voto en blanco: 2\n",
            "Voto 15 de 20. Ingrese el voto por el candidato 1,2,3 o 4, ingrese 5 para voto nulo y 6 para voto en blanco: 2\n",
            "Voto 16 de 20. Ingrese el voto por el candidato 1,2,3 o 4, ingrese 5 para voto nulo y 6 para voto en blanco: 2\n",
            "Voto 17 de 20. Ingrese el voto por el candidato 1,2,3 o 4, ingrese 5 para voto nulo y 6 para voto en blanco: 2\n",
            "Voto 18 de 20. Ingrese el voto por el candidato 1,2,3 o 4, ingrese 5 para voto nulo y 6 para voto en blanco: 2\n",
            "Voto 19 de 20. Ingrese el voto por el candidato 1,2,3 o 4, ingrese 5 para voto nulo y 6 para voto en blanco: 2\n",
            "Voto 20 de 20. Ingrese el voto por el candidato 1,2,3 o 4, ingrese 5 para voto nulo y 6 para voto en blanco: 2\n",
            "\n",
            "========================================\n",
            "RESULTADOS FINALES DE LA ELECCIÓN\n",
            "========================================\n",
            "Votos Candidato 1: 0\n",
            "Votos Candidato 2: 20\n",
            "Votos Candidato 3: 0\n",
            "Votos Candidato 4: 0\n",
            "Votos Nulos: 0\n",
            "Votos en Blanco: 0\n",
            "----------------------------------------\n",
            "Porcentaje de votos nulos: 0.00%\n",
            "Porcentaje de votos en blanco: 0.00%\n",
            "----------------------------------------\n",
            "¡EL GANADOR ES EL CANDIDATO NÚMERO 2 con 20 votos! 👑\n"
          ]
        }
      ]
    },
    {
      "cell_type": "markdown",
      "source": [
        "##**Hora de practicar** : *Estructuras de datos*"
      ],
      "metadata": {
        "id": "KketZdr9mgjy"
      }
    },
    {
      "cell_type": "markdown",
      "metadata": {
        "id": "2fb550ad"
      },
      "source": [
        "Entrenando la programación"
      ]
    },
    {
      "cell_type": "markdown",
      "metadata": {
        "id": "bc4322d5"
      },
      "source": [
        "1 - Crea un programa que tenga la siguiente lista con los gastos de una empresa de papel [2172.54, 3701.35, 3518.09, 3456.61, 3249.38, 2840.82, 3891.45, 3075.26, 2317.64, 3219.08]. Con estos valores, crea un programa que calcule el promedio de gastos. Sugerencia: usa las funciones integradas sum() y len()."
      ]
    },
    {
      "cell_type": "markdown",
      "metadata": {
        "id": "1de03d7f"
      },
      "source": [
        "2 - Con los mismos datos de la pregunta anterior, determina cuántas compras se realizaron por encima de 3000 reales y calcula el porcentaje con respecto al total de compras."
      ]
    },
    {
      "cell_type": "markdown",
      "metadata": {
        "id": "7bc733c2"
      },
      "source": [
        "3 - Crea un código que recoja en una lista 5 números enteros aleatorios e imprima la lista. Ejemplo: [1, 4, 7, 2, 4]."
      ]
    },
    {
      "cell_type": "markdown",
      "metadata": {
        "id": "684da69e"
      },
      "source": [
        "4 - Recoge nuevamente 5 números enteros e imprime la lista en orden inverso al enviado."
      ]
    },
    {
      "cell_type": "markdown",
      "metadata": {
        "id": "1fc5e8a8"
      },
      "source": [
        "5 - Crea un programa que, al ingresar un número cualquiera, genere una lista que contenga todos los números primos entre 1 y el número ingresado."
      ]
    },
    {
      "cell_type": "markdown",
      "metadata": {
        "id": "ee5d5992"
      },
      "source": [
        "6 - Escribe un programa que pida una fecha, especificando el día, mes y año, y determine si es válida para su análisis."
      ]
    },
    {
      "cell_type": "markdown",
      "metadata": {
        "id": "17afa4f4"
      },
      "source": [
        "Momento para los proyectos"
      ]
    },
    {
      "cell_type": "markdown",
      "metadata": {
        "id": "549ac451"
      },
      "source": [
        "7 - Para un estudio sobre la multiplicación de bacterias en una colonia, se recopiló el número de bacterias multiplicadas por día y se puede observar a continuación: [1.2, 2.1, 3.3, 5.0, 7.8, 11.3, 16.6, 25.1, 37.8, 56.9]. Con estos valores, crea un código que genere una lista que contenga el porcentaje de crecimiento de bacterias por día, comparando el número de bacterias en cada día con el número de bacterias del día anterior. Sugerencia: para calcular el porcentaje de crecimiento, utiliza la siguiente ecuación: 100 * (muestra_actual - muestra_anterior) / muestra_anterior."
      ]
    },
    {
      "cell_type": "markdown",
      "metadata": {
        "id": "7c914991"
      },
      "source": [
        "8 - Para una selección de productos alimenticios, debemos separar el conjunto de IDs proporcionados por números enteros, sabiendo que los productos con ID par son dulces y los que tienen ID impar son amargos. Crea un código que recoja 10 IDs. Luego, calcula y muestra la cantidad de productos dulces y amargos."
      ]
    },
    {
      "cell_type": "markdown",
      "metadata": {
        "id": "4644bc3b"
      },
      "source": [
        "9 - Desarrolla un programa que informe la puntuación de un estudiante de acuerdo con sus respuestas. Debe pedir la respuesta del estudiante para cada pregunta y verificar si la respuesta coincide con el resultado. Cada pregunta vale un punto y hay opciones A, B, C o D.\n",
        "\n",
        "Resultado del examen:\n",
        "01 - D\n",
        "02 - A\n",
        "03 - C\n",
        "04 - B\n",
        "05 - A\n",
        "06 - D\n",
        "07 - C\n",
        "08 - C\n",
        "09 - A\n",
        "10 - B"
      ]
    },
    {
      "cell_type": "markdown",
      "metadata": {
        "id": "113be20f"
      },
      "source": [
        "10 - Un instituto de meteorología desea realizar un estudio de la temperatura media de cada mes del año. Para ello, debes crear un código que recoja y almacene esas temperaturas medias en una lista. Luego, calcula el promedio anual de las temperaturas y muestra todas las temperaturas por encima del promedio anual y en qué mes ocurrieron, mostrando los meses por su nombre (Enero, Febrero, etc.)."
      ]
    },
    {
      "cell_type": "markdown",
      "metadata": {
        "id": "a39c1c96"
      },
      "source": [
        "11 - Una empresa de comercio electrónico está interesada en analizar las ventas de sus productos. Los datos de ventas se han almacenado en un diccionario:\n",
        "\n",
        "{'Producto A': 300, 'Producto B': 80, 'Producto C': 60, 'Producto D': 200, 'Producto E': 250, 'Producto F': 30}\n",
        "\n",
        "Escribe un código que calcule el total de ventas y el producto más vendido."
      ]
    },
    {
      "cell_type": "markdown",
      "metadata": {
        "id": "6448f849"
      },
      "source": [
        "12 - Se realizó una encuesta de mercado para decidir cuál diseño de marca infantil es más atractivo para los niños. Los votos de la encuesta se pueden ver a continuación:\n",
        "\n",
        "Tabla de votos de la marca\n",
        "Diseño 1 - 1334 votos\n",
        "Diseño 2 - 982 votos\n",
        "Diseño 3 - 1751 votos\n",
        "Diseño 4 - 210 votos\n",
        "Diseño 5 - 1811 votos\n",
        "\n",
        "Adapta los datos proporcionados a una estructura de diccionario. A partir de ello, informa el diseño ganador y el porcentaje de votos recibidos."
      ]
    },
    {
      "cell_type": "markdown",
      "metadata": {
        "id": "1132064d"
      },
      "source": [
        "13 - Los empleados de un departamento de tu empresa recibirán una bonificación del 10% de su salario debido a un excelente rendimiento del equipo. El departamento de finanzas ha solicitado tu ayuda para verificar las consecuencias financieras de esta bonificación en los recursos. Se te ha enviado una lista con los salarios que recibirán la bonificación: [1172, 1644, 2617, 5"
      ]
    },
    {
      "cell_type": "markdown",
      "metadata": {
        "id": "9ebd26c1"
      },
      "source": [
        "14 - Un equipo de científicos de datos está estudiando la diversidad biológica en un bosque. El equipo recopiló información sobre el número de especies de plantas y animales en cada área del bosque y almacenó estos datos en un diccionario. En él, la clave describe el área de los datos y los valores en las listas corresponden a las especies de plantas y animales en esas áreas, respectivamente.\n",
        "\n",
        "{'Área Norte': [2819, 7236], 'Área Leste': [1440, 9492], 'Área Sul': [5969, 7496], 'Área Oeste': [14446, 49688], 'Área Centro': [22558, 45148]}\n",
        "\n",
        "Escribe un código para calcular el promedio de especies por área e identificar el área con la mayor diversidad biológica. Sugerencia: utiliza las funciones incorporadas sum() y len()."
      ]
    },
    {
      "cell_type": "markdown",
      "metadata": {
        "id": "96621822"
      },
      "source": [
        "15 - El departamento de Recursos Humanos de tu empresa te pidió ayuda para analizar las edades de los colaboradores de 4 sectores de la empresa. Para ello, te proporcionaron los siguientes datos:\n",
        "\n",
        "{'Setor A': [22, 26, 30, 30, 35, 38, 40, 56, 57, 65],\n",
        " 'Setor B': [22, 24, 26, 33, 41, 49, 50, 54, 60, 64],\n",
        " 'Setor C': [23, 26, 26, 29, 34, 35, 36, 41, 52, 56],\n",
        " 'Setor D': [19, 20, 25, 27, 34, 39, 42, 44, 50, 65]}\n",
        "\n",
        "Dado que cada sector tiene 10 colaboradores, construye un código que calcule la media de edad de cada sector, la edad media general entre todos los sectores y cuántas personas están por encima de la edad media general."
      ]
    }
  ]
}