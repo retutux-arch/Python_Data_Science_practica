{
  "nbformat": 4,
  "nbformat_minor": 0,
  "metadata": {
    "colab": {
      "provenance": [],
      "authorship_tag": "ABX9TyP3GQh4FG1n6tdHhxosAKXn",
      "include_colab_link": true
    },
    "kernelspec": {
      "name": "python3",
      "display_name": "Python 3"
    },
    "language_info": {
      "name": "python"
    }
  },
  "cells": [
    {
      "cell_type": "markdown",
      "metadata": {
        "id": "view-in-github",
        "colab_type": "text"
      },
      "source": [
        "<a href=\"https://colab.research.google.com/github/retutux-arch/Python_Data_Science_practica/blob/main/Practica.ipynb\" target=\"_parent\"><img src=\"https://colab.research.google.com/assets/colab-badge.svg\" alt=\"Open In Colab\"/></a>"
      ]
    },
    {
      "cell_type": "code",
      "execution_count": null,
      "metadata": {
        "id": "nwW3yOiE5p0f",
        "colab": {
          "base_uri": "https://localhost:8080/"
        },
        "outputId": "200897e2-7ecf-4a8f-9751-7db50bbe1d3a"
      },
      "outputs": [
        {
          "output_type": "stream",
          "name": "stdout",
          "text": [
            "Escuela de datos de Alura\n"
          ]
        }
      ],
      "source": [
        "print('Escuela de datos de Alura')"
      ]
    },
    {
      "cell_type": "code",
      "source": [
        "print('Nombre: Ariel');\n",
        "print('Apellido: Lobos');"
      ],
      "metadata": {
        "colab": {
          "base_uri": "https://localhost:8080/"
        },
        "id": "HDdRZcPk-qQT",
        "outputId": "9e3c6cb2-ea71-4da6-ed48-b4ec3cd3daeb"
      },
      "execution_count": null,
      "outputs": [
        {
          "output_type": "stream",
          "name": "stdout",
          "text": [
            "Nombre: Ariel\n",
            "Apellido: Lobos\n"
          ]
        }
      ]
    },
    {
      "cell_type": "code",
      "source": [
        "print('A');\n",
        "print('R');\n",
        "print('I');\n",
        "print('E');\n",
        "print('L');\n"
      ],
      "metadata": {
        "colab": {
          "base_uri": "https://localhost:8080/"
        },
        "id": "YUwHDwLF_P4B",
        "outputId": "fb790537-e1e2-4175-9fc0-6646fae9ffe4"
      },
      "execution_count": null,
      "outputs": [
        {
          "output_type": "stream",
          "name": "stdout",
          "text": [
            "A\n",
            "R\n",
            "I\n",
            "E\n",
            "L\n"
          ]
        }
      ]
    },
    {
      "cell_type": "code",
      "source": [
        "print(23, 'Septiembre', 1989)"
      ],
      "metadata": {
        "id": "4SPLo3_0_mw6",
        "colab": {
          "base_uri": "https://localhost:8080/"
        },
        "outputId": "23f9c823-85ef-4c59-b1cd-c6e9d19b0f40"
      },
      "execution_count": 2,
      "outputs": [
        {
          "output_type": "stream",
          "name": "stdout",
          "text": [
            "23 Septiembre 1989\n"
          ]
        }
      ]
    },
    {
      "cell_type": "code",
      "source": [
        "print('Año actual:', 2025)"
      ],
      "metadata": {
        "colab": {
          "base_uri": "https://localhost:8080/"
        },
        "id": "oaKn5EnlCpzD",
        "outputId": "acaceb4b-d312-4140-d623-341a01a650a8"
      },
      "execution_count": 3,
      "outputs": [
        {
          "output_type": "stream",
          "name": "stdout",
          "text": [
            "Año actual: 2025\n"
          ]
        }
      ]
    },
    {
      "cell_type": "code",
      "source": [],
      "metadata": {
        "id": "_axbIHqvEVvx"
      },
      "execution_count": null,
      "outputs": []
    }
  ]
}