{
  "nbformat": 4,
  "nbformat_minor": 0,
  "metadata": {
    "colab": {
      "provenance": [],
      "authorship_tag": "ABX9TyN4Xe5coCzRe5X7lg1bzaOa",
      "include_colab_link": true
    },
    "kernelspec": {
      "name": "python3",
      "display_name": "Python 3"
    },
    "language_info": {
      "name": "python"
    }
  },
  "cells": [
    {
      "cell_type": "markdown",
      "metadata": {
        "id": "view-in-github",
        "colab_type": "text"
      },
      "source": [
        "<a href=\"https://colab.research.google.com/github/retutux-arch/Python_Data_Science_practica/blob/main/Practica.ipynb\" target=\"_parent\"><img src=\"https://colab.research.google.com/assets/colab-badge.svg\" alt=\"Open In Colab\"/></a>"
      ]
    },
    {
      "cell_type": "markdown",
      "source": [
        "#**Hora de practicar** : *Commensando con python*"
      ],
      "metadata": {
        "id": "fwvJkOVuCnN2"
      }
    },
    {
      "cell_type": "markdown",
      "source": [
        "1 - Imprime la frase \"Escuela de Datos de Alura\"."
      ],
      "metadata": {
        "id": "rbJXFvTrEF9w"
      }
    },
    {
      "cell_type": "code",
      "execution_count": null,
      "metadata": {
        "id": "nwW3yOiE5p0f",
        "colab": {
          "base_uri": "https://localhost:8080/"
        },
        "outputId": "200897e2-7ecf-4a8f-9751-7db50bbe1d3a"
      },
      "outputs": [
        {
          "output_type": "stream",
          "name": "stdout",
          "text": [
            "Escuela de datos de Alura\n"
          ]
        }
      ],
      "source": [
        "print('Escuela de datos de Alura')"
      ]
    },
    {
      "cell_type": "markdown",
      "source": [
        "2 - Imprime tu nombre y tu apellido siguiendo la estructura a continuación:"
      ],
      "metadata": {
        "id": "E0MD905WEqNv"
      }
    },
    {
      "cell_type": "code",
      "source": [
        "print('Nombre: Ariel')\n",
        "print('Apellido: Lobos')"
      ],
      "metadata": {
        "colab": {
          "base_uri": "https://localhost:8080/"
        },
        "id": "HDdRZcPk-qQT",
        "outputId": "9e3c6cb2-ea71-4da6-ed48-b4ec3cd3daeb"
      },
      "execution_count": null,
      "outputs": [
        {
          "output_type": "stream",
          "name": "stdout",
          "text": [
            "Nombre: Ariel\n",
            "Apellido: Lobos\n"
          ]
        }
      ]
    },
    {
      "cell_type": "markdown",
      "source": [
        "3 - Imprime tu primer nombre letra por letra. Por ejemplo, si mi nombre es Álvaro, la salida sería:"
      ],
      "metadata": {
        "id": "z1ouVrb2EIct"
      }
    },
    {
      "cell_type": "code",
      "source": [
        "print('A')\n",
        "print('R')\n",
        "print('I')\n",
        "print('E')\n",
        "print('L')\n"
      ],
      "metadata": {
        "colab": {
          "base_uri": "https://localhost:8080/"
        },
        "id": "YUwHDwLF_P4B",
        "outputId": "fb790537-e1e2-4175-9fc0-6646fae9ffe4"
      },
      "execution_count": null,
      "outputs": [
        {
          "output_type": "stream",
          "name": "stdout",
          "text": [
            "A\n",
            "R\n",
            "I\n",
            "E\n",
            "L\n"
          ]
        }
      ]
    },
    {
      "cell_type": "markdown",
      "source": [
        "4 - Imprime tu fecha de nacimiento en formato día mes año. Recuerda que los valores de día y año no deben estar entre comillas. Suponiendo una fecha de cumpleaños el 28 de febrero de 2003, el formato debe ser como el siguiente:"
      ],
      "metadata": {
        "id": "J-PRV-0FEJYo"
      }
    },
    {
      "cell_type": "code",
      "source": [
        "print(23, 'Septiembre', 1989)"
      ],
      "metadata": {
        "id": "4SPLo3_0_mw6",
        "colab": {
          "base_uri": "https://localhost:8080/"
        },
        "outputId": "23f9c823-85ef-4c59-b1cd-c6e9d19b0f40"
      },
      "execution_count": null,
      "outputs": [
        {
          "output_type": "stream",
          "name": "stdout",
          "text": [
            "23 Septiembre 1989\n"
          ]
        }
      ]
    },
    {
      "cell_type": "markdown",
      "source": [
        "5 - Imprime, en una sola instrucción print, el año actual en el que estás realizando este curso. El valor del año debe ser un dato numérico, y la salida de print debe ser la siguiente:"
      ],
      "metadata": {
        "id": "o2EiQx_jEJ6u"
      }
    },
    {
      "cell_type": "code",
      "source": [
        "print('Año actual:', 2025)"
      ],
      "metadata": {
        "colab": {
          "base_uri": "https://localhost:8080/"
        },
        "id": "oaKn5EnlCpzD",
        "outputId": "acaceb4b-d312-4140-d623-341a01a650a8"
      },
      "execution_count": null,
      "outputs": [
        {
          "output_type": "stream",
          "name": "stdout",
          "text": [
            "Año actual: 2025\n"
          ]
        }
      ]
    },
    {
      "cell_type": "markdown",
      "source": [
        "##**Hora de practicar**: *Manipulando datos con Python*"
      ],
      "metadata": {
        "id": "Eo-NG6afDWiP"
      }
    },
    {
      "cell_type": "markdown",
      "source": [
        "###Recopilación y muestra de datos"
      ],
      "metadata": {
        "id": "UaGPp3q9FRfJ"
      }
    },
    {
      "cell_type": "markdown",
      "metadata": {
        "id": "996feba2"
      },
      "source": [
        "1 - Crea un programa que solicite al usuario que escriba su nombre y luego imprima \"Hola, [nombre].\""
      ]
    },
    {
      "cell_type": "code",
      "source": [
        "nombre = input('Nombre: ')\n",
        "print('Hola',nombre)"
      ],
      "metadata": {
        "colab": {
          "base_uri": "https://localhost:8080/"
        },
        "id": "H3tozu1dJUBo",
        "outputId": "79edb182-6021-446e-8924-3c920329fbf4"
      },
      "execution_count": 5,
      "outputs": [
        {
          "output_type": "stream",
          "name": "stdout",
          "text": [
            "Nombre: Ariel\n",
            "Hola Ariel\n"
          ]
        }
      ]
    },
    {
      "cell_type": "markdown",
      "metadata": {
        "id": "2ffdb9cc"
      },
      "source": [
        "2 - Crea un programa que solicite al usuario que escriba su nombre y edad, y luego imprima \"Hola, [nombre], tienes [edad] años.\""
      ]
    },
    {
      "cell_type": "code",
      "source": [
        "nombre = input('Nombre: ')\n",
        "edad = input('Edad: ')\n",
        "print(f'Hola {nombre}, tu edad es {edad} años.')"
      ],
      "metadata": {
        "colab": {
          "base_uri": "https://localhost:8080/"
        },
        "id": "WUkx6CVgLT4R",
        "outputId": "33d51036-3afb-4a83-fb04-14be622d4a63"
      },
      "execution_count": 13,
      "outputs": [
        {
          "output_type": "stream",
          "name": "stdout",
          "text": [
            "Nombre: Ariel\n",
            "Edad: 36\n",
            "Hola Ariel, tu edad es 36 años.\n"
          ]
        }
      ]
    },
    {
      "cell_type": "markdown",
      "metadata": {
        "id": "f6caf4de"
      },
      "source": [
        "3 - Crea un programa que solicite al usuario que escriba su nombre, edad y altura en metros, y luego imprima \"Hola, [nombre], tienes [edad] años y mides [altura] metros.\""
      ]
    },
    {
      "cell_type": "code",
      "source": [
        "nombre = input('Nombre: ')\n",
        "edad = int(input('Edad: '))\n",
        "altura = float(input('Altura: '))\n",
        "print(f'Hola {nombre}, tienes {edad} años y mides {altura:.2f} metros.')"
      ],
      "metadata": {
        "colab": {
          "base_uri": "https://localhost:8080/"
        },
        "id": "yNaLMoFbPFfy",
        "outputId": "a40dbbfc-0578-48c0-fb8e-22769c11d7fc"
      },
      "execution_count": 26,
      "outputs": [
        {
          "output_type": "stream",
          "name": "stdout",
          "text": [
            "Nombre: Ariel\n",
            "Edad: 36\n",
            "Altura: 1.80\n",
            "Hola Ariel, tienes 36 años y mides 1.80 metros.\n"
          ]
        }
      ]
    },
    {
      "cell_type": "markdown",
      "metadata": {
        "id": "5974801f"
      },
      "source": [
        "***Calculadora con operadores***"
      ]
    },
    {
      "cell_type": "markdown",
      "metadata": {
        "id": "d126585a"
      },
      "source": [
        "4 - Crea un programa que solicite dos valores numéricos al usuario y luego imprima la suma de ambos valores."
      ]
    },
    {
      "cell_type": "code",
      "metadata": {
        "colab": {
          "base_uri": "https://localhost:8080/"
        },
        "id": "b2c4fcf0",
        "outputId": "23662def-e956-48a5-e4f9-1745d99b3a1c"
      },
      "source": [
        "valor1 = int(input(\"Introduce el primer valor numérico: \"))\n",
        "valor2 = int(input(\"Introduce el segundo valor numérico: \"))\n",
        "suma = valor1 + valor2\n",
        "print(f\"La suma de {valor1} y {valor2} es: {suma}\")"
      ],
      "execution_count": 28,
      "outputs": [
        {
          "output_type": "stream",
          "name": "stdout",
          "text": [
            "Introduce el primer valor numérico: 25\n",
            "Introduce el segundo valor numérico: 65\n",
            "La suma de 25 y 65 es: 90\n"
          ]
        }
      ]
    },
    {
      "cell_type": "markdown",
      "metadata": {
        "id": "8f2d4776"
      },
      "source": [
        "5 - Crea un programa que solicite tres valores numéricos al usuario y luego imprima la suma de los tres valores."
      ]
    },
    {
      "cell_type": "code",
      "source": [
        "valor1 = int(input(\"Introduce el primer valor numérico: \"))\n",
        "valor2 = int(input(\"Introduce el segundo valor numérico: \"))\n",
        "valor3 = int(input(\"Introduce el segundo valor numérico: \"))\n",
        "suma = valor1 + valor2 + valor3\n",
        "print(f\"La suma de {valor1} + {valor2} y {valor3} es: {suma}\")"
      ],
      "metadata": {
        "colab": {
          "base_uri": "https://localhost:8080/"
        },
        "id": "myr9a0-NXJsB",
        "outputId": "8cd1fc35-b940-4b40-a5bc-0d75dcb851ee"
      },
      "execution_count": 31,
      "outputs": [
        {
          "output_type": "stream",
          "name": "stdout",
          "text": [
            "Introduce el primer valor numérico: 56\n",
            "Introduce el segundo valor numérico: 56\n",
            "Introduce el segundo valor numérico: 235\n",
            "La suma de 56 + 56 y 235 es: 347\n"
          ]
        }
      ]
    },
    {
      "cell_type": "markdown",
      "metadata": {
        "id": "3cec343a"
      },
      "source": [
        "6 - Crea un programa que solicite dos valores numéricos al usuario y luego imprima la resta del primero menos el segundo valor."
      ]
    },
    {
      "cell_type": "code",
      "source": [
        "valor1 = int(input(\"Introduce el primer valor numérico: \"))\n",
        "valor2 = int(input(\"Introduce el segundo valor numérico: \"))\n",
        "resta = valor1 - valor2\n",
        "print(f\"La resta de {valor1} - {valor2} es: {resta}\")"
      ],
      "metadata": {
        "colab": {
          "base_uri": "https://localhost:8080/"
        },
        "id": "YfBmpsmuYEJZ",
        "outputId": "f244dc41-d9bf-46c4-a5f8-aab74649a09e"
      },
      "execution_count": 32,
      "outputs": [
        {
          "output_type": "stream",
          "name": "stdout",
          "text": [
            "Introduce el primer valor numérico: 56\n",
            "Introduce el segundo valor numérico: 54\n",
            "La resta de 56 - 54 es: 2\n"
          ]
        }
      ]
    },
    {
      "cell_type": "markdown",
      "metadata": {
        "id": "37c91ba8"
      },
      "source": [
        "7 - Crea un programa que solicite dos valores numéricos al usuario y luego imprima la multiplicación de los dos valores."
      ]
    },
    {
      "cell_type": "code",
      "source": [
        "valor1 = int(input(\"Introduce el primer valor numérico: \"))\n",
        "valor2 = int(input(\"Introduce el segundo valor numérico: \"))\n",
        "multipliccion = valor1 * valor2\n",
        "print(f\"La multiplicación de {valor1} x {valor2} es: {multipliccion}\")"
      ],
      "metadata": {
        "colab": {
          "base_uri": "https://localhost:8080/"
        },
        "id": "Ckw4XSxeYTNN",
        "outputId": "c9f43ca7-d579-444c-fab4-91718db42652"
      },
      "execution_count": 34,
      "outputs": [
        {
          "output_type": "stream",
          "name": "stdout",
          "text": [
            "Introduce el primer valor numérico: 24\n",
            "Introduce el segundo valor numérico: 32\n",
            "La multiplicación de 24 x 32 es: 768\n"
          ]
        }
      ]
    },
    {
      "cell_type": "markdown",
      "metadata": {
        "id": "4af9e8e8"
      },
      "source": [
        "8 - Crea un programa que solicite dos valores numéricos, un numerador y un denominador, y realice la división entre los dos valores. Asegúrate de que el valor del denominador no sea igual a 0."
      ]
    },
    {
      "cell_type": "code",
      "source": [
        "valor1 = float(input(\"Introduce el primer valor numérico: \"))\n",
        "valor2 = float(input(\"Introduce el segundo valor numérico: \"))\n",
        "if valor2 == 0:\n",
        "  print('El denominador no puede ser 0')\n",
        "else:\n",
        "  division = valor1 / valor2\n",
        "  print(f\"La división de {valor1} / {valor2} es: {division}\")\n"
      ],
      "metadata": {
        "colab": {
          "base_uri": "https://localhost:8080/"
        },
        "id": "8iHzEjZrYjVx",
        "outputId": "8dab6f4e-ff9c-46f8-faac-60828ebff55c"
      },
      "execution_count": 36,
      "outputs": [
        {
          "output_type": "stream",
          "name": "stdout",
          "text": [
            "Introduce el primer valor numérico: 568\n",
            "Introduce el segundo valor numérico: 4545\n",
            "La división de 568.0 / 4545.0 es: 0.12497249724972498\n"
          ]
        }
      ]
    },
    {
      "cell_type": "markdown",
      "metadata": {
        "id": "cae67fde"
      },
      "source": [
        "9 - Crea un programa que solicite dos valores numéricos, un operador y una potencia, y realice la exponenciación entre estos dos valores."
      ]
    },
    {
      "cell_type": "code",
      "source": [
        "valor1 = int(input(\"Introduce el primer valor numérico: \"))\n",
        "valor2 = int(input(\"Introduce el segundo valor numérico: \"))\n",
        "potencia = valor1 ** valor2\n",
        "print(f\"La potencia de {valor1} ** {valor2} es: {potencia}\")"
      ],
      "metadata": {
        "colab": {
          "base_uri": "https://localhost:8080/"
        },
        "id": "ZkHfsqB_aMZD",
        "outputId": "c9a75fad-7dd2-4fe9-f6a4-b012997a3bb9"
      },
      "execution_count": 38,
      "outputs": [
        {
          "output_type": "stream",
          "name": "stdout",
          "text": [
            "Introduce el primer valor numérico: 5\n",
            "Introduce el segundo valor numérico: 5\n",
            "La potencia de 5 ** 5 es: 3125\n"
          ]
        }
      ]
    },
    {
      "cell_type": "markdown",
      "metadata": {
        "id": "57d48635"
      },
      "source": [
        "10 - Crea un programa que solicite dos valores numéricos, un numerador y un denominador, y realice la división entera entre los dos valores. Asegúrate de que el valor del denominador no sea igual a 0."
      ]
    },
    {
      "cell_type": "code",
      "source": [
        "valor1 = int(input(\"Introduce el primer valor numérico: \"))\n",
        "valor2 = int(input(\"Introduce el segundo valor numérico: \"))\n",
        "if valor2 == 0:\n",
        "  print('El denominador no puede ser 0')\n",
        "else:\n",
        "  division = valor1 // valor2\n",
        "  print(f\"La división entera de {valor1} // {valor2} es: {division}\")"
      ],
      "metadata": {
        "colab": {
          "base_uri": "https://localhost:8080/"
        },
        "id": "Fs88IzKBbEq9",
        "outputId": "20ef2f2f-2589-42d7-9580-fc4addb91e41"
      },
      "execution_count": 44,
      "outputs": [
        {
          "output_type": "stream",
          "name": "stdout",
          "text": [
            "Introduce el primer valor numérico: 5454\n",
            "Introduce el segundo valor numérico: 4545\n",
            "La división entera de 5454 // 4545 es: 1\n"
          ]
        }
      ]
    },
    {
      "cell_type": "markdown",
      "metadata": {
        "id": "40ad9bc8"
      },
      "source": [
        "11 - Crea un programa que solicite dos valores numéricos, un numerador y un denominador, y devuelva el resto de la división entre los dos valores. Asegúrate de que el valor del denominador no sea igual a 0."
      ]
    },
    {
      "cell_type": "code",
      "source": [
        "valor1 = int(input(\"Introduce el primer valor numérico: \"))\n",
        "valor2 = int(input(\"Introduce el segundo valor numérico: \"))\n",
        "if valor2 == 0:\n",
        "  print('El denominador no puede ser 0')\n",
        "else:\n",
        "  division = valor1 % valor2\n",
        "  print(f\"El resto de la división de {valor1} % {valor2} es: {division}\")"
      ],
      "metadata": {
        "colab": {
          "base_uri": "https://localhost:8080/"
        },
        "id": "qwZ-a9PHcet5",
        "outputId": "27786dba-fd9b-4a78-8893-db7b547d0c2e"
      },
      "execution_count": 45,
      "outputs": [
        {
          "output_type": "stream",
          "name": "stdout",
          "text": [
            "Introduce el primer valor numérico: 5\n",
            "Introduce el segundo valor numérico: 9\n",
            "El resto de la división de 5 % 9 es: 5\n"
          ]
        }
      ]
    },
    {
      "cell_type": "markdown",
      "metadata": {
        "id": "dd1273b2"
      },
      "source": [
        "12 - Crea un código que solicite las 3 notas de un estudiante e imprima el promedio de las notas."
      ]
    },
    {
      "cell_type": "code",
      "source": [
        "nota1 = float(input(\"Introduce tu primera calificacion: \"))\n",
        "nota2 = float(input(\"Introduce tu segunda calificacion: \"))\n",
        "nota3 = float(input(\"Introduce tu tercera calificacion: \"))\n",
        "promedio = (nota1 + nota2 + nota3) / 3\n",
        "print(f\"El promedio de las notas es: {promedio}\")"
      ],
      "metadata": {
        "colab": {
          "base_uri": "https://localhost:8080/"
        },
        "id": "jcFKeXDOcygS",
        "outputId": "c40a0f2c-d0eb-4561-848b-401a8f56d6c6"
      },
      "execution_count": 48,
      "outputs": [
        {
          "output_type": "stream",
          "name": "stdout",
          "text": [
            "Introduce tu primera calificacion: 4.5\n",
            "Introduce tu segunda calificacion: 5.5\n",
            "Introduce tu tercera calificacion: 6.5\n",
            "El promedio de las notas es: 5.5\n"
          ]
        }
      ]
    },
    {
      "cell_type": "markdown",
      "metadata": {
        "id": "b1f1f124"
      },
      "source": [
        "13 - Crea un código que calcule e imprima el promedio ponderado de los números 5, 12, 20 y 15 con pesos respectivamente iguales a 1, 2, 3 y 4."
      ]
    },
    {
      "cell_type": "code",
      "source": [
        "promedio_ponderado = (5*1 + 12*2 + 20*3 + 15*4) / (1+2+3+4)\n",
        "print(f'El promedio ponderado es: {promedio_ponderado}')\n",
        "\n"
      ],
      "metadata": {
        "colab": {
          "base_uri": "https://localhost:8080/"
        },
        "id": "c1wgbtkveB15",
        "outputId": "60355778-c734-427c-b0a7-8e4ea318960e"
      },
      "execution_count": 52,
      "outputs": [
        {
          "output_type": "stream",
          "name": "stdout",
          "text": [
            "El promedio ponderado es: 14.9\n"
          ]
        }
      ]
    },
    {
      "cell_type": "markdown",
      "metadata": {
        "id": "a445ba0e"
      },
      "source": [
        "***Editando textos***"
      ]
    },
    {
      "cell_type": "markdown",
      "metadata": {
        "id": "1c49f836"
      },
      "source": [
        "14 - Crea una variable llamada \"frase\" y asígnale una cadena de texto de tu elección. Luego, imprime la frase en pantalla."
      ]
    },
    {
      "cell_type": "code",
      "source": [
        "frase = 'Hola, soy Ariel Lobos'\n",
        "print(frase)\n"
      ],
      "metadata": {
        "colab": {
          "base_uri": "https://localhost:8080/"
        },
        "id": "K9O739kKfpPO",
        "outputId": "49c291c0-3ac1-42be-b334-0cbaa664b7de"
      },
      "execution_count": 53,
      "outputs": [
        {
          "output_type": "stream",
          "name": "stdout",
          "text": [
            "Hola, soy Ariel Lobos\n"
          ]
        }
      ]
    },
    {
      "cell_type": "markdown",
      "metadata": {
        "id": "43cdf426"
      },
      "source": [
        "15 - Crea un código que solicite una frase y luego imprima la frase en pantalla."
      ]
    },
    {
      "cell_type": "code",
      "source": [
        "frase = input('Introduce una frase: ')\n",
        "print(frase)"
      ],
      "metadata": {
        "colab": {
          "base_uri": "https://localhost:8080/"
        },
        "id": "RS7eUrdZfxSV",
        "outputId": "193f77f1-2dee-44a6-b7aa-00dbcd7fac0e"
      },
      "execution_count": 55,
      "outputs": [
        {
          "output_type": "stream",
          "name": "stdout",
          "text": [
            "Introduce una frase: nueva frase\n",
            "nueva frase\n"
          ]
        }
      ]
    },
    {
      "cell_type": "markdown",
      "metadata": {
        "id": "2523f5d8"
      },
      "source": [
        "16 - Crea un código que solicite una frase al usuario y luego imprima la misma frase ingresada pero en mayúsculas."
      ]
    },
    {
      "cell_type": "code",
      "source": [
        "frase = input('Introduce una frase: ')\n",
        "print(frase.upper())"
      ],
      "metadata": {
        "colab": {
          "base_uri": "https://localhost:8080/"
        },
        "id": "9oVHkaGTgQT8",
        "outputId": "2aad23d7-e55d-4a8f-c724-cf18c547fa61"
      },
      "execution_count": 57,
      "outputs": [
        {
          "output_type": "stream",
          "name": "stdout",
          "text": [
            "Introduce una frase: hola\n",
            "HOLA\n"
          ]
        }
      ]
    },
    {
      "cell_type": "markdown",
      "metadata": {
        "id": "1b3f0cac"
      },
      "source": [
        "17 - Crea un código que solicite una frase al usuario y luego imprima la misma frase ingresada pero en minúsculas."
      ]
    },
    {
      "cell_type": "code",
      "source": [
        "frase = input('Introduce una frase: ')\n",
        "print(frase.lower())"
      ],
      "metadata": {
        "colab": {
          "base_uri": "https://localhost:8080/"
        },
        "id": "Jcq8yAMggc81",
        "outputId": "a297430d-f1bc-4d9d-9362-e46a4f0c3cd8"
      },
      "execution_count": 58,
      "outputs": [
        {
          "output_type": "stream",
          "name": "stdout",
          "text": [
            "Introduce una frase: HOLA\n",
            "hola\n"
          ]
        }
      ]
    },
    {
      "cell_type": "markdown",
      "metadata": {
        "id": "e5de0d8a"
      },
      "source": [
        "18 - Crea una variable llamada \"frase\" y asígnale una cadena de texto de tu elección. Luego, imprime la frase sin espacios en blanco al principio y al final."
      ]
    },
    {
      "cell_type": "code",
      "source": [
        "frase = '    hola    '\n",
        "print(Frase.strip())"
      ],
      "metadata": {
        "colab": {
          "base_uri": "https://localhost:8080/"
        },
        "id": "JDUT9L26glc1",
        "outputId": "0e52d9dc-71bb-430c-9785-df5da4bbf705"
      },
      "execution_count": 62,
      "outputs": [
        {
          "output_type": "stream",
          "name": "stdout",
          "text": [
            "hola\n"
          ]
        }
      ]
    },
    {
      "cell_type": "markdown",
      "metadata": {
        "id": "4b47c0c4"
      },
      "source": [
        "19 - Crea un código que solicite una frase al usuario y luego imprima la misma frase sin espacios en blanco al principio y al final."
      ]
    },
    {
      "cell_type": "code",
      "source": [
        "frase = input('Introduce una frase: ')\n",
        "print(frase.strip())"
      ],
      "metadata": {
        "colab": {
          "base_uri": "https://localhost:8080/"
        },
        "id": "ARoT2xxRg_KV",
        "outputId": "61c91bf5-6d20-42d2-84ce-8c2d7f455537"
      },
      "execution_count": 63,
      "outputs": [
        {
          "output_type": "stream",
          "name": "stdout",
          "text": [
            "Introduce una frase:           hola      \n",
            "hola\n"
          ]
        }
      ]
    },
    {
      "cell_type": "markdown",
      "metadata": {
        "id": "aa1478e2"
      },
      "source": [
        "20 - Crea un código que solicite una frase al usuario y luego imprima la misma frase sin espacios en blanco al principio y al final, además de convertirla a minúsculas."
      ]
    },
    {
      "cell_type": "code",
      "source": [
        "frase = input('Introduce una frase: ')\n",
        "print(frase.strip().lower())"
      ],
      "metadata": {
        "colab": {
          "base_uri": "https://localhost:8080/"
        },
        "id": "NRsdV8upiCnQ",
        "outputId": "933ec158-2bde-42b7-b607-80fac4238b12"
      },
      "execution_count": 65,
      "outputs": [
        {
          "output_type": "stream",
          "name": "stdout",
          "text": [
            "Introduce una frase:          HOLA\n",
            "hola\n"
          ]
        }
      ]
    },
    {
      "cell_type": "markdown",
      "metadata": {
        "id": "dc15a9ef"
      },
      "source": [
        "21 - Crea un código que solicite una frase al usuario y luego imprima la misma frase con todas las vocales \"e\" reemplazadas por la letra \"f\"."
      ]
    },
    {
      "cell_type": "code",
      "source": [
        "frase = input('Introduce una frase: ')\n",
        "print(frase.replace('e','f'))"
      ],
      "metadata": {
        "colab": {
          "base_uri": "https://localhost:8080/"
        },
        "id": "ci1NlSHZihJM",
        "outputId": "37c9a6b0-9bb7-4e82-ff01-93fd1c08023e"
      },
      "execution_count": 69,
      "outputs": [
        {
          "output_type": "stream",
          "name": "stdout",
          "text": [
            "Introduce una frase: Este excelente pelele se entretiene leyendo trece reses\n",
            "Estf fxcflfntf pflflf sf fntrftifnf lfyfndo trfcf rfsfs\n"
          ]
        }
      ]
    },
    {
      "cell_type": "markdown",
      "metadata": {
        "id": "359ad768"
      },
      "source": [
        "22 - Crea un código que solicite una frase al usuario y luego imprima la misma frase con todas las vocales \"a\" reemplazadas por el carácter \"@\"."
      ]
    },
    {
      "cell_type": "code",
      "source": [
        "frase = input('Introduce una frase: ')\n",
        "print(frase.replace('a','@'))"
      ],
      "metadata": {
        "colab": {
          "base_uri": "https://localhost:8080/"
        },
        "id": "Sg6Evkb5i_iD",
        "outputId": "3e383f7c-f10a-45f3-fc2a-80fae88ddfea"
      },
      "execution_count": 67,
      "outputs": [
        {
          "output_type": "stream",
          "name": "stdout",
          "text": [
            "Introduce una frase: La araña arrastra a la casa la paja\n",
            "L@ @r@ñ@ @rr@str@ @ l@ c@s@ l@ p@j@\n"
          ]
        }
      ]
    },
    {
      "cell_type": "markdown",
      "metadata": {
        "id": "563273a8"
      },
      "source": [
        "23 - Crea un código que solicite una frase al usuario y luego imprima la misma frase con todas las consonantes \"s\" reemplazadas por el carácter \"$\"."
      ]
    },
    {
      "cell_type": "code",
      "source": [
        "frase = input('Introduce una frase: ')\n",
        "print(frase.replace('s','$'))"
      ],
      "metadata": {
        "colab": {
          "base_uri": "https://localhost:8080/"
        },
        "id": "kUBnVYAujm36",
        "outputId": "a1efdf5d-f305-4d46-d204-2ed4046c8c08"
      },
      "execution_count": 68,
      "outputs": [
        {
          "output_type": "stream",
          "name": "stdout",
          "text": [
            "Introduce una frase: Seis sapos secos saltan silenciosamente sobre seis sillas\n",
            "Sei$ $apo$ $eco$ $altan $ilencio$amente $obre $ei$ $illa$\n"
          ]
        }
      ]
    }
  ]
}